{
 "cells": [
  {
   "cell_type": "code",
   "execution_count": 1,
   "id": "78891dc1",
   "metadata": {},
   "outputs": [
    {
     "name": "stdout",
     "output_type": "stream",
     "text": [
      "The value of a after swapping: 16\n",
      "The value of b after swapping: 20\n"
     ]
    }
   ],
   "source": [
    "### Ans 01 ###\n",
    "a = 20\n",
    "b = 16\n",
    "\n",
    "temporary = a\n",
    "a = b\n",
    "b = temporary\n",
    "\n",
    "print(f\"The value of a after swapping: {a}\")\n",
    "print(f\"The value of b after swapping: {b}\")"
   ]
  },
  {
   "cell_type": "code",
   "execution_count": 2,
   "id": "02d904db",
   "metadata": {},
   "outputs": [
    {
     "name": "stdout",
     "output_type": "stream",
     "text": [
      "The area of the rectangle is: 35 square units\n"
     ]
    }
   ],
   "source": [
    "### Ans 02 ###\n",
    "\n",
    "def rectangle_area(length, width):\n",
    "    return length * width\n",
    "\n",
    "length = 5\n",
    "width = 7\n",
    "area = rectangle_area(length, width)\n",
    "\n",
    "print(f\"The area of the rectangle is: {area} square units\")"
   ]
  },
  {
   "cell_type": "code",
   "execution_count": 3,
   "id": "d3af7872",
   "metadata": {},
   "outputs": [
    {
     "name": "stdout",
     "output_type": "stream",
     "text": [
      "The temperature in Celsius is: 7.78°C\n"
     ]
    }
   ],
   "source": [
    "### Ans 03 ###\n",
    "\n",
    "def fahrenheit_to_celsius(fahrenheit):\n",
    "    return (fahrenheit - 32) * 5/9\n",
    "\n",
    "fahrenheit_temp = 46\n",
    "\n",
    "celsius_temp = fahrenheit_to_celsius(fahrenheit_temp)\n",
    "\n",
    "print(f\"The temperature in Celsius is: {celsius_temp:.2f}°C\")"
   ]
  },
  {
   "cell_type": "code",
   "execution_count": 4,
   "id": "2c9e5894",
   "metadata": {},
   "outputs": [
    {
     "name": "stdout",
     "output_type": "stream",
     "text": [
      "The volume of the sphere is: 1436.76 cubic units\n"
     ]
    }
   ],
   "source": [
    "### Ans 04 ###\n",
    "\n",
    "import math\n",
    "\n",
    "def calculate_sphere_vol(r):\n",
    "    return (4/3) * math.pi * (r ** 3)\n",
    "\n",
    "r = 7\n",
    "\n",
    "vol = calculate_sphere_vol(r)\n",
    "print(f\"The volume of the sphere is: {vol:.2f} cubic units\")"
   ]
  },
  {
   "cell_type": "code",
   "execution_count": 5,
   "id": "838ac632",
   "metadata": {},
   "outputs": [
    {
     "name": "stdout",
     "output_type": "stream",
     "text": [
      "The average of three numbers is: 29.33\n"
     ]
    }
   ],
   "source": [
    "### Ans 05 ###\n",
    "\n",
    "num1 = 15\n",
    "num2 = 31\n",
    "num3 = 42\n",
    "\n",
    "avg = (num1 + num2 + num3) / 3\n",
    "\n",
    "print(f\"The average of three numbers is: {avg:.2f}\")"
   ]
  },
  {
   "cell_type": "code",
   "execution_count": 6,
   "id": "b72ed895",
   "metadata": {},
   "outputs": [
    {
     "ename": "KeyboardInterrupt",
     "evalue": "Interrupted by user",
     "output_type": "error",
     "traceback": [
      "\u001b[1;31m---------------------------------------------------------------------------\u001b[0m",
      "\u001b[1;31mKeyboardInterrupt\u001b[0m                         Traceback (most recent call last)",
      "\u001b[1;32m~\\AppData\\Local\\Temp\\ipykernel_14192\\2099999170.py\u001b[0m in \u001b[0;36m<module>\u001b[1;34m\u001b[0m\n\u001b[0;32m      1\u001b[0m \u001b[1;31m### Ans 06 ###\u001b[0m\u001b[1;33m\u001b[0m\u001b[1;33m\u001b[0m\u001b[0m\n\u001b[0;32m      2\u001b[0m \u001b[1;33m\u001b[0m\u001b[0m\n\u001b[1;32m----> 3\u001b[1;33m \u001b[0mnum\u001b[0m \u001b[1;33m=\u001b[0m \u001b[0mint\u001b[0m\u001b[1;33m(\u001b[0m\u001b[0minput\u001b[0m\u001b[1;33m(\u001b[0m\u001b[1;34m\"Enter a number: \"\u001b[0m\u001b[1;33m)\u001b[0m\u001b[1;33m)\u001b[0m\u001b[1;33m\u001b[0m\u001b[1;33m\u001b[0m\u001b[0m\n\u001b[0m\u001b[0;32m      4\u001b[0m \u001b[1;33m\u001b[0m\u001b[0m\n\u001b[0;32m      5\u001b[0m \u001b[1;32mif\u001b[0m \u001b[0mnum\u001b[0m \u001b[1;33m%\u001b[0m \u001b[1;36m2\u001b[0m \u001b[1;33m==\u001b[0m \u001b[1;36m0\u001b[0m\u001b[1;33m:\u001b[0m\u001b[1;33m\u001b[0m\u001b[1;33m\u001b[0m\u001b[0m\n",
      "\u001b[1;32mC:\\ProgramData\\Anaconda3\\lib\\site-packages\\ipykernel\\kernelbase.py\u001b[0m in \u001b[0;36mraw_input\u001b[1;34m(self, prompt)\u001b[0m\n\u001b[0;32m   1175\u001b[0m                 \u001b[1;34m\"raw_input was called, but this frontend does not support input requests.\"\u001b[0m\u001b[1;33m\u001b[0m\u001b[1;33m\u001b[0m\u001b[0m\n\u001b[0;32m   1176\u001b[0m             )\n\u001b[1;32m-> 1177\u001b[1;33m         return self._input_request(\n\u001b[0m\u001b[0;32m   1178\u001b[0m             \u001b[0mstr\u001b[0m\u001b[1;33m(\u001b[0m\u001b[0mprompt\u001b[0m\u001b[1;33m)\u001b[0m\u001b[1;33m,\u001b[0m\u001b[1;33m\u001b[0m\u001b[1;33m\u001b[0m\u001b[0m\n\u001b[0;32m   1179\u001b[0m             \u001b[0mself\u001b[0m\u001b[1;33m.\u001b[0m\u001b[0m_parent_ident\u001b[0m\u001b[1;33m[\u001b[0m\u001b[1;34m\"shell\"\u001b[0m\u001b[1;33m]\u001b[0m\u001b[1;33m,\u001b[0m\u001b[1;33m\u001b[0m\u001b[1;33m\u001b[0m\u001b[0m\n",
      "\u001b[1;32mC:\\ProgramData\\Anaconda3\\lib\\site-packages\\ipykernel\\kernelbase.py\u001b[0m in \u001b[0;36m_input_request\u001b[1;34m(self, prompt, ident, parent, password)\u001b[0m\n\u001b[0;32m   1217\u001b[0m             \u001b[1;32mexcept\u001b[0m \u001b[0mKeyboardInterrupt\u001b[0m\u001b[1;33m:\u001b[0m\u001b[1;33m\u001b[0m\u001b[1;33m\u001b[0m\u001b[0m\n\u001b[0;32m   1218\u001b[0m                 \u001b[1;31m# re-raise KeyboardInterrupt, to truncate traceback\u001b[0m\u001b[1;33m\u001b[0m\u001b[1;33m\u001b[0m\u001b[0m\n\u001b[1;32m-> 1219\u001b[1;33m                 \u001b[1;32mraise\u001b[0m \u001b[0mKeyboardInterrupt\u001b[0m\u001b[1;33m(\u001b[0m\u001b[1;34m\"Interrupted by user\"\u001b[0m\u001b[1;33m)\u001b[0m \u001b[1;32mfrom\u001b[0m \u001b[1;32mNone\u001b[0m\u001b[1;33m\u001b[0m\u001b[1;33m\u001b[0m\u001b[0m\n\u001b[0m\u001b[0;32m   1220\u001b[0m             \u001b[1;32mexcept\u001b[0m \u001b[0mException\u001b[0m\u001b[1;33m:\u001b[0m\u001b[1;33m\u001b[0m\u001b[1;33m\u001b[0m\u001b[0m\n\u001b[0;32m   1221\u001b[0m                 \u001b[0mself\u001b[0m\u001b[1;33m.\u001b[0m\u001b[0mlog\u001b[0m\u001b[1;33m.\u001b[0m\u001b[0mwarning\u001b[0m\u001b[1;33m(\u001b[0m\u001b[1;34m\"Invalid Message:\"\u001b[0m\u001b[1;33m,\u001b[0m \u001b[0mexc_info\u001b[0m\u001b[1;33m=\u001b[0m\u001b[1;32mTrue\u001b[0m\u001b[1;33m)\u001b[0m\u001b[1;33m\u001b[0m\u001b[1;33m\u001b[0m\u001b[0m\n",
      "\u001b[1;31mKeyboardInterrupt\u001b[0m: Interrupted by user"
     ]
    }
   ],
   "source": [
    "### Ans 06 ###\n",
    "\n",
    "num = int(input(\"Enter a number: \"))\n",
    "\n",
    "if num % 2 == 0:\n",
    "    print(f\"The number {num} is even.\")\n",
    "else:\n",
    "    print(f\"The number {num} is odd.\")"
   ]
  },
  {
   "cell_type": "code",
   "execution_count": null,
   "id": "53b30938",
   "metadata": {},
   "outputs": [],
   "source": [
    "### Ans 07 ###\n",
    "\n",
    "num1 = float(input(\"First number: \"))\n",
    "num2 = float(input(\"Second number: \"))\n",
    "num3 = float(input(\"Third number: \"))\n",
    "\n",
    "maximum_num = max(num1, num2, num3)\n",
    "\n",
    "print(f\"The maximum number is: {maximum_num}\")"
   ]
  },
  {
   "cell_type": "code",
   "execution_count": null,
   "id": "515867ae",
   "metadata": {},
   "outputs": [],
   "source": [
    "### Ans 08 ###\n",
    "\n",
    "year = int(input(\"Enter a year: \"))\n",
    "\n",
    "if (year % 4 == 0 and year % 100 != 0) or (year % 400 == 0):\n",
    "    print(f\"{year} is a leap year.\")\n",
    "else:\n",
    "    print(f\"{year} is not a leap year.\")"
   ]
  },
  {
   "cell_type": "code",
   "execution_count": null,
   "id": "d605be22",
   "metadata": {},
   "outputs": [],
   "source": [
    "### Ans 09 ###\n",
    "\n",
    "num = float(input(\"Enter a number: \"))\n",
    "\n",
    "if num > 0:\n",
    "    print(f\"{num} is positive number.\")\n",
    "elif num < 0:\n",
    "    print(f\"{num} is negative number.\")\n",
    "else:\n",
    "    print(f\"{num} is zero number.\")"
   ]
  },
  {
   "cell_type": "code",
   "execution_count": null,
   "id": "d312b383",
   "metadata": {},
   "outputs": [],
   "source": [
    "### Ans 10 ###\n",
    "\n",
    "percentage = float(input(\"Enter the percentage: \"))\n",
    "\n",
    "if percentage >= 80:\n",
    "    grade = \"A+\"\n",
    "elif percentage >= 70:\n",
    "    grade = \"A\"\n",
    "elif percentage >= 60:\n",
    "    grade = \"B\"\n",
    "elif percentage >= 50:\n",
    "    grade = \"C\"\n",
    "elif percentage >= 40:\n",
    "    grade = \"D\"\n",
    "else:\n",
    "    grade = \"F\"\n",
    "\n",
    "print(f\"The grade for {percentage}% is: {grade}\")"
   ]
  },
  {
   "cell_type": "code",
   "execution_count": null,
   "id": "09381e35",
   "metadata": {},
   "outputs": [],
   "source": [
    "### Ans 11 ###\n",
    "\n",
    "n = int(input(\"Enter the value of n: \"))\n",
    "\n",
    "print(f\"The first {n} natural numbers are:\")\n",
    "\n",
    "for i in range(1, n + 1):\n",
    "    print(i, end=\" \")"
   ]
  },
  {
   "cell_type": "code",
   "execution_count": null,
   "id": "0ab56723",
   "metadata": {},
   "outputs": [],
   "source": [
    "### Ans 12 ###\n",
    "\n",
    "num = int(input(\"Enter a number: \"))\n",
    "\n",
    "factorial = 1\n",
    "\n",
    "if num < 0:\n",
    "    print(\"Factorial is not defined for negative numbers.\")\n",
    "elif num == 0:\n",
    "    print(\"The factorial of 0 is 1.\")\n",
    "else:\n",
    "    for i in range(1, num + 1):\n",
    "        factorial *= i\n",
    "    print(f\"The factorial of {num} is: {factorial}\")"
   ]
  },
  {
   "cell_type": "code",
   "execution_count": null,
   "id": "a48e8493",
   "metadata": {},
   "outputs": [],
   "source": [
    "### Ans 13 ###\n",
    "\n",
    "n = int(input(\"Enter the length of the Fibonacci sequence: \"))\n",
    "\n",
    "fibonacci_seq = [0, 1]\n",
    "\n",
    "while len(fibonacci_seq) < n:\n",
    "    next_num = fibonacci_seq[-1] + fibonacci_seq[-2]\n",
    "    fibonacci_seq.append(next_num)\n",
    "\n",
    "print(f\"The Fibonacci sequence of length {n} is:\")\n",
    "print(fibonacci_seq)"
   ]
  },
  {
   "cell_type": "code",
   "execution_count": null,
   "id": "40c1eed5",
   "metadata": {},
   "outputs": [],
   "source": [
    "### Ans 14 ###\n",
    "\n",
    "num = int(input(\"Enter a number: \"))\n",
    "\n",
    "if num <= 1:\n",
    "    is_prime = False\n",
    "elif num == 2:\n",
    "    is_prime = True\n",
    "else:\n",
    "    is_prime = True\n",
    "    for i in range(2, int(num**0.5) + 1):\n",
    "        if num % i == 0:\n",
    "            is_prime = False\n",
    "            break\n",
    "\n",
    "if is_prime:\n",
    "    print(f\"{num} is a prime number.\")\n",
    "else:\n",
    "    print(f\"{num} is not a prime number.\")"
   ]
  },
  {
   "cell_type": "code",
   "execution_count": null,
   "id": "ef6681ca",
   "metadata": {},
   "outputs": [],
   "source": [
    "### Ans 15 ###\n",
    "\n",
    "num = int(input(\"Enter a number: \"))\n",
    "\n",
    "print(f\"The multiplication table of {num} is:\")\n",
    "for i in range(1, 11):\n",
    "    result = num * i\n",
    "    print(f\"{num} x {i} = {result}\")"
   ]
  },
  {
   "cell_type": "code",
   "execution_count": null,
   "id": "5e7f1adc",
   "metadata": {},
   "outputs": [],
   "source": [
    "### Ans 16 ###\n",
    "\n",
    "n = int(input(\"Enter a number (n): \"))\n",
    "\n",
    "even_sum = 0\n",
    "\n",
    "for num in range(2, n + 1, 2):\n",
    "    even_sum += num\n",
    "\n",
    "print(f\"The sum of even numbers between 1 and {n} is: {even_sum}\")"
   ]
  },
  {
   "cell_type": "code",
   "execution_count": null,
   "id": "fbe0e2ed",
   "metadata": {},
   "outputs": [],
   "source": [
    "### Ans 17 ###\n",
    "\n",
    "num = int(input(\"Enter a number: \"))\n",
    "\n",
    "reversed_num = 0\n",
    "original_num = num\n",
    "\n",
    "while num > 0:\n",
    "    digit = num % 10\n",
    "    reversed_num = reversed_num * 10 + digit\n",
    "    num //= 10\n",
    "\n",
    "print(f\"The reversed of {original_num} is: {reversed_num}\")"
   ]
  },
  {
   "cell_type": "code",
   "execution_count": null,
   "id": "50137f1d",
   "metadata": {},
   "outputs": [],
   "source": [
    "### Ans 18 ###\n",
    "\n",
    "string = input(\"Enter a string: \")\n",
    "\n",
    "string = string.replace(\" \", \"\").lower()\n",
    "\n",
    "if string == string[::-1]:\n",
    "    print(\"The string is a palindrome.\")\n",
    "else:\n",
    "    print(\"The string is not a palindrome.\")"
   ]
  },
  {
   "cell_type": "code",
   "execution_count": 9,
   "id": "48047cfc",
   "metadata": {},
   "outputs": [
    {
     "name": "stdout",
     "output_type": "stream",
     "text": [
      "Guess the number between 1 and 100!\n",
      "Enter your guess: 23\n",
      "Too low! Try again.\n",
      "Enter your guess: 25\n",
      "Too low! Try again.\n",
      "Enter your guess: 30\n",
      "Too low! Try again.\n",
      "Enter your guess: 40\n",
      "Too high! Try again.\n",
      "Enter your guess: 35\n",
      "Too high! Try again.\n",
      "Enter your guess: 33\n",
      "Too high! Try again.\n",
      "Enter your guess: 34\n",
      "Too high! Try again.\n",
      "Enter your guess: 32\n",
      "Too high! Try again.\n",
      "Enter your guess: 31\n",
      "Congratulations! You guessed the number 31 in 9 attempts.\n"
     ]
    }
   ],
   "source": [
    "### Ans 19 ###\n",
    "\n",
    "import random\n",
    "\n",
    "rand_num = random.randint(1, 100)\n",
    "\n",
    "attempts = 0\n",
    "guess = None\n",
    "\n",
    "print(\"Guess the number between 1 and 100!\")\n",
    "\n",
    "while guess != rand_num:\n",
    "    try:\n",
    "        guess = int(input(\"Enter your guess: \"))\n",
    "        \n",
    "        attempts += 1\n",
    "\n",
    "        if guess < rand_num:\n",
    "            print(\"Too low! Try again.\")\n",
    "        elif guess > rand_num:\n",
    "            print(\"Too high! Try again.\")\n",
    "        else:\n",
    "            print(f\"Congratulations! You guessed the number {rand_num} in {attempts} attempts.\")\n",
    "    except ValueError:\n",
    "        print(\"Invalid input. Please enter a valid number.\")"
   ]
  },
  {
   "cell_type": "code",
   "execution_count": 8,
   "id": "b422a14c",
   "metadata": {},
   "outputs": [
    {
     "name": "stdout",
     "output_type": "stream",
     "text": [
      "Enter the first number: 25\n",
      "Enter the second number: 30\n",
      "The greatest common divisor (GCD) of 25 and 30 is: 5\n"
     ]
    }
   ],
   "source": [
    "### Ans 20 ###\n",
    "\n",
    "def find_GCD(a, b):\n",
    "    while b:\n",
    "        a, b = b, a % b\n",
    "    return a\n",
    "\n",
    "num1 = int(input(\"Enter the first number: \"))\n",
    "num2 = int(input(\"Enter the second number: \"))\n",
    "\n",
    "gcd = find_GCD(num1, num2)\n",
    "\n",
    "print(f\"The greatest common divisor (GCD) of {num1} and {num2} is: {gcd}\")"
   ]
  },
  {
   "cell_type": "code",
   "execution_count": null,
   "id": "b11c24c3",
   "metadata": {},
   "outputs": [],
   "source": []
  }
 ],
 "metadata": {
  "kernelspec": {
   "display_name": "Python 3 (ipykernel)",
   "language": "python",
   "name": "python3"
  },
  "language_info": {
   "codemirror_mode": {
    "name": "ipython",
    "version": 3
   },
   "file_extension": ".py",
   "mimetype": "text/x-python",
   "name": "python",
   "nbconvert_exporter": "python",
   "pygments_lexer": "ipython3",
   "version": "3.9.13"
  }
 },
 "nbformat": 4,
 "nbformat_minor": 5
}
