{
 "cells": [
  {
   "cell_type": "markdown",
   "id": "76560275",
   "metadata": {},
   "source": [
    "# Basic Problems"
   ]
  },
  {
   "cell_type": "code",
   "execution_count": 1,
   "id": "d5d89508",
   "metadata": {},
   "outputs": [
    {
     "name": "stdout",
     "output_type": "stream",
     "text": [
      "a: 20 b: 15\n"
     ]
    }
   ],
   "source": [
    "# Variable swap\n",
    "\n",
    "a = 15\n",
    "b = 20\n",
    "\n",
    "a, b = b, a\n",
    "print(\"a:\", a, \"b:\", b)"
   ]
  },
  {
   "cell_type": "code",
   "execution_count": 2,
   "id": "08000c65",
   "metadata": {},
   "outputs": [
    {
     "name": "stdout",
     "output_type": "stream",
     "text": [
      "Enter an integer: 5\n",
      "The number 5 is Odd.\n"
     ]
    }
   ],
   "source": [
    "# Even or Odd\n",
    "\n",
    "def check(num):\n",
    "    if num % 2 == 0:\n",
    "        return \"Even\"\n",
    "    else:\n",
    "        return \"Odd\"\n",
    "\n",
    "input_num = int(input(\"Enter an integer: \"))\n",
    "result = check(input_num)\n",
    "print(f\"The number {input_num} is {result}.\")"
   ]
  },
  {
   "cell_type": "code",
   "execution_count": 3,
   "id": "4c34e655",
   "metadata": {},
   "outputs": [
    {
     "name": "stdout",
     "output_type": "stream",
     "text": [
      "olleH\n"
     ]
    }
   ],
   "source": [
    "# String Reverse\n",
    "\n",
    "def reverse(s):\n",
    "    return s[::-1]\n",
    "\n",
    "original = \"Hello\"\n",
    "rev_string = reverse(original)\n",
    "print(rev_string)"
   ]
  },
  {
   "cell_type": "code",
   "execution_count": 4,
   "id": "4e9164a4",
   "metadata": {},
   "outputs": [
    {
     "name": "stdout",
     "output_type": "stream",
     "text": [
      "['1', '2', '3', '4', '5']\n"
     ]
    }
   ],
   "source": [
    "# Type Conversion\n",
    "\n",
    "def convert(int_list):\n",
    "    return [str(i) for i in int_list]\n",
    "\n",
    "int_list = [1, 2, 3, 4, 5]\n",
    "str_list = convert(int_list)\n",
    "print(str_list)"
   ]
  },
  {
   "cell_type": "code",
   "execution_count": 5,
   "id": "512b8afe",
   "metadata": {},
   "outputs": [
    {
     "name": "stdout",
     "output_type": "stream",
     "text": [
      "Enter temperature in Celsius: 67\n",
      "67.0 degrees Celsius = 152.6 degrees Fahrenheit.\n"
     ]
    }
   ],
   "source": [
    "# Temperature Converter\n",
    "\n",
    "def convert(celsius):\n",
    "    return (celsius * 9/5) + 32\n",
    "\n",
    "celsius_value = float(input(\"Enter temperature in Celsius: \"))\n",
    "fahrenheit_output = convert(celsius_value)\n",
    "print(f\"{celsius_value} degrees Celsius = {fahrenheit_output} degrees Fahrenheit.\")"
   ]
  },
  {
   "cell_type": "code",
   "execution_count": 6,
   "id": "51f2e37c",
   "metadata": {},
   "outputs": [
    {
     "name": "stdout",
     "output_type": "stream",
     "text": [
      "The data type of the variable is 'int'.\n"
     ]
    }
   ],
   "source": [
    "# Data Type Checker\n",
    "\n",
    "def get_data_type(value):\n",
    "    return type(value).__name__\n",
    "\n",
    "var = 11\n",
    "data_type = get_data_type(var)\n",
    "print(f\"The data type of the variable is '{data_type}'.\")"
   ]
  },
  {
   "cell_type": "code",
   "execution_count": 7,
   "id": "9068f51f",
   "metadata": {},
   "outputs": [
    {
     "name": "stdout",
     "output_type": "stream",
     "text": [
      "The string 'madam' is a palindrome: True\n"
     ]
    }
   ],
   "source": [
    "# String Palindrome\n",
    "\n",
    "def is_palindrome(s):\n",
    "    s = ''.join(char.lower() for char in s if char.isalnum())\n",
    "    return s == s[::-1]\n",
    "\n",
    "string = \"madam\"\n",
    "is_string_palindrome = is_palindrome(string)\n",
    "print(f\"The string '{string}' is a palindrome: {is_string_palindrome}\")"
   ]
  },
  {
   "cell_type": "code",
   "execution_count": 8,
   "id": "5b5468a8",
   "metadata": {},
   "outputs": [
    {
     "name": "stdout",
     "output_type": "stream",
     "text": [
      "gninrom dooG\n"
     ]
    }
   ],
   "source": [
    "# String Reversal with Slicing\n",
    "\n",
    "def reverse(s):\n",
    "    return s[::-1]\n",
    "\n",
    "original_str = \"Good morning\"\n",
    "reverse = reverse(original_str)\n",
    "print(reverse)"
   ]
  },
  {
   "cell_type": "code",
   "execution_count": 9,
   "id": "8488609c",
   "metadata": {},
   "outputs": [
    {
     "name": "stdout",
     "output_type": "stream",
     "text": [
      "Enter first string: Hello World\n",
      "Enter second string: !!\n",
      "Hello World!!\n"
     ]
    }
   ],
   "source": [
    "# String Concatenation\n",
    "\n",
    "def concat_str(str1, str2):\n",
    "    return ''.join([str1, str2])\n",
    "\n",
    "str1 = input(\"Enter first string: \")\n",
    "str2 = input(\"Enter second string: \")\n",
    "concatenated = concat_str(str1, str2)\n",
    "print(concatenated)"
   ]
  },
  {
   "cell_type": "code",
   "execution_count": 10,
   "id": "8e24342b",
   "metadata": {},
   "outputs": [
    {
     "name": "stdout",
     "output_type": "stream",
     "text": [
      "114.5 is the answer\n"
     ]
    }
   ],
   "source": [
    "# Typecasting Challenge\n",
    "\n",
    "a = '100'\n",
    "b = 25\n",
    "c = '10.5'\n",
    "\n",
    "result1 = int(a) + b\n",
    "result2 = result1 - float(c)\n",
    "answer = str(result2)\n",
    "print(f\"{answer} is the answer\")"
   ]
  },
  {
   "cell_type": "markdown",
   "id": "ea3211e2",
   "metadata": {},
   "source": [
    "# Python Conditional Statements"
   ]
  },
  {
   "cell_type": "code",
   "execution_count": 11,
   "id": "83fee23f",
   "metadata": {},
   "outputs": [
    {
     "name": "stdout",
     "output_type": "stream",
     "text": [
      "Enter a number: 34\n",
      "34.0 is a positive number.\n"
     ]
    }
   ],
   "source": [
    "# Positive, Negative, or Zero\n",
    "\n",
    "def check(n):\n",
    "    if n > 0:\n",
    "        return \"positive\"\n",
    "    elif n < 0:\n",
    "        return \"negative\"\n",
    "    else:\n",
    "        return \"Zero\"\n",
    "\n",
    "num_input = float(input(\"Enter a number: \"))\n",
    "result = check(num_input)\n",
    "print(f\"{num_input} is a {result} number.\")"
   ]
  },
  {
   "cell_type": "code",
   "execution_count": 12,
   "id": "dd7221fe",
   "metadata": {},
   "outputs": [
    {
     "name": "stdout",
     "output_type": "stream",
     "text": [
      "Enter first number: 2\n",
      "Enter second number: 5\n",
      "Enter third number: 67\n",
      "The largest number is 67.0 among 2.0, 5.0 and 67.0.\n"
     ]
    }
   ],
   "source": [
    "# Largest of Three Numbers\n",
    "\n",
    "def largest_num(num1, num2, num3):\n",
    "    return max(num1, num2, num3)\n",
    "\n",
    "num1 = float(input(\"Enter first number: \"))\n",
    "num2 = float(input(\"Enter second number: \"))\n",
    "num3 = float(input(\"Enter third number: \"))\n",
    "largest = largest_num(num1, num2, num3)\n",
    "\n",
    "print(f\"The largest number is {largest} among {num1}, {num2} and {num3}.\")"
   ]
  },
  {
   "cell_type": "code",
   "execution_count": 13,
   "id": "847d9a42",
   "metadata": {},
   "outputs": [
    {
     "name": "stdout",
     "output_type": "stream",
     "text": [
      "Enter a year: 2015\n"
     ]
    },
    {
     "data": {
      "text/plain": [
       "'Not Leap Year'"
      ]
     },
     "execution_count": 13,
     "metadata": {},
     "output_type": "execute_result"
    }
   ],
   "source": [
    "# Leap Year Checker\n",
    "\n",
    "def is_leap_year(year):\n",
    "    if (year % 4 == 0 and year % 100 != 0) or (year % 400 == 0):\n",
    "        return 'Leap Year'\n",
    "    else:\n",
    "        return 'Not Leap Year'\n",
    "\n",
    "year_input = int(input(\"Enter a year: \"))\n",
    "check = is_leap_year(year_input)\n",
    "check"
   ]
  },
  {
   "cell_type": "code",
   "execution_count": 14,
   "id": "5acc5b7e",
   "metadata": {},
   "outputs": [
    {
     "name": "stdout",
     "output_type": "stream",
     "text": [
      "Enter marks percentage: 57\n"
     ]
    },
    {
     "data": {
      "text/plain": [
       "'Fail'"
      ]
     },
     "execution_count": 14,
     "metadata": {},
     "output_type": "execute_result"
    }
   ],
   "source": [
    " # Grades Classification\n",
    "    \n",
    "def grade(percentage):\n",
    "    if percentage >= 90:\n",
    "        return \"A+\"\n",
    "    elif percentage >= 80:\n",
    "        return \"A\"\n",
    "    elif percentage >= 70:\n",
    "        return \"B\"\n",
    "    elif percentage >= 60:\n",
    "        return \"C\"\n",
    "    else:\n",
    "        return \"Fail\"\n",
    "\n",
    "percentage = float(input(\"Enter marks percentage: \"))\n",
    "grade = grade(percentage)\n",
    "grade"
   ]
  },
  {
   "cell_type": "code",
   "execution_count": 15,
   "id": "ad7f90a5",
   "metadata": {},
   "outputs": [
    {
     "name": "stdout",
     "output_type": "stream",
     "text": [
      "Enter a single character: r\n"
     ]
    },
    {
     "data": {
      "text/plain": [
       "'Consonant character'"
      ]
     },
     "execution_count": 15,
     "metadata": {},
     "output_type": "execute_result"
    }
   ],
   "source": [
    " # Vowel or Consonant\n",
    "\n",
    "def check_char(char):\n",
    "    vowels = 'aeiouAEIOU'\n",
    "    if char.isalpha():\n",
    "        if char in vowels:\n",
    "            return \"Vowel character\"\n",
    "        else:\n",
    "            return \"Consonant character\"\n",
    "    else:\n",
    "        return \"Not a letter\"\n",
    "\n",
    "char = input(\"Enter a single character: \")\n",
    "result = check_char(char)\n",
    "result"
   ]
  },
  {
   "cell_type": "code",
   "execution_count": 16,
   "id": "c5054eba",
   "metadata": {},
   "outputs": [
    {
     "name": "stdout",
     "output_type": "stream",
     "text": [
      "Enter the hour (0-23): 12\n"
     ]
    },
    {
     "data": {
      "text/plain": [
       "'Good Afternoon'"
      ]
     },
     "execution_count": 16,
     "metadata": {},
     "output_type": "execute_result"
    }
   ],
   "source": [
    "# Time Classification\n",
    "\n",
    "def greeting(hour):\n",
    "    if 5 <= hour < 12:  # From 5:00 to 11:59\n",
    "        return \"Good Morning\"\n",
    "    elif 12 <= hour < 18:  # From 12:00 to 17:59\n",
    "        return \"Good Afternoon\"\n",
    "    elif 18 <= hour < 22:  # From 18:00 to 21:59\n",
    "        return \"Good Evening\"\n",
    "    else:  # From 22:00 to 4:59\n",
    "        return \"Good Night\"\n",
    "\n",
    "hour_input = int(input(\"Enter the hour (0-23): \"))\n",
    "greeting = greeting(hour_input)\n",
    "greeting"
   ]
  },
  {
   "cell_type": "code",
   "execution_count": 17,
   "id": "5481f36c",
   "metadata": {},
   "outputs": [
    {
     "name": "stdout",
     "output_type": "stream",
     "text": [
      "Enter the length of side 1: 2\n",
      "Enter the length of side 2: 4\n",
      "Enter the length of side 3: 5\n",
      "The given triangle is a Scalene triangle.\n"
     ]
    }
   ],
   "source": [
    "# Triangle Type Checker\n",
    "\n",
    "def Triangle_Type(side1, side2, side3):\n",
    "    if side1 + side2 <= side3 or side1 + side3 <= side2 or side2 + side3 <= side1:\n",
    "        return \"not a triangle\"\n",
    "\n",
    "    if side1 == side2 == side3:\n",
    "        return \"Equilateral triangle\"\n",
    "    \n",
    "    if side1 == side2 or side1 == side3 or side2 == side3:\n",
    "        return \"Isosceles triangle\"\n",
    "\n",
    "    return \"Scalene triangle\"\n",
    "\n",
    "side1 = float(input(\"Enter the length of side 1: \"))\n",
    "side2 = float(input(\"Enter the length of side 2: \"))\n",
    "side3 = float(input(\"Enter the length of side 3: \"))\n",
    "\n",
    "result = Triangle_Type(side1, side2, side3)\n",
    "print(f\"The given triangle is a {result}.\")"
   ]
  },
  {
   "cell_type": "code",
   "execution_count": 18,
   "id": "af46093d",
   "metadata": {},
   "outputs": [
    {
     "name": "stdout",
     "output_type": "stream",
     "text": [
      "Enter coefficient a: 1\n",
      "Enter coefficient b: 5\n",
      "Enter coefficient c: 4\n",
      "Real roots:\n",
      "-1.0\n",
      "-4.0\n"
     ]
    }
   ],
   "source": [
    "# Quadratic Equation Solver\n",
    "\n",
    "import math\n",
    "\n",
    "def qd_roots(a, b, c):\n",
    "    discriminant = (b**2 - 4*a*c)\n",
    "\n",
    "    if discriminant > 0:\n",
    "        root1 = (-b + math.sqrt(discriminant)) / (2*a)\n",
    "        root2 = (-b - math.sqrt(discriminant)) / (2*a)\n",
    "        return \"Real roots:\", root1, root2\n",
    "\n",
    "    elif discriminant == 0:\n",
    "        root = -b / (2*a)\n",
    "        return \"One real root:\", root\n",
    "\n",
    "    else:\n",
    "        real_part = -b / (2*a)\n",
    "        img_part = math.sqrt(abs(discriminant)) / (2*a)\n",
    "        return \"Complex roots:\", f\"{real_part} + {img_part}i\", f\"{real_part} - {img_part}i\"\n",
    "\n",
    "a = float(input(\"Enter coefficient a: \"))\n",
    "b = float(input(\"Enter coefficient b: \"))\n",
    "c = float(input(\"Enter coefficient c: \"))\n",
    "\n",
    "roots = qd_roots(a, b, c)\n",
    "print(\"\\n\".join(map(str, roots)))"
   ]
  },
  {
   "cell_type": "code",
   "execution_count": 19,
   "id": "96a88828",
   "metadata": {},
   "outputs": [
    {
     "name": "stdout",
     "output_type": "stream",
     "text": [
      "Enter an integer: 45\n",
      "'45' falls within the range 0-50.\n"
     ]
    }
   ],
   "source": [
    "# Number Ranges\n",
    "\n",
    "number = int(input(\"Enter an integer: \"))\n",
    "\n",
    "if number >= 0 and number <= 50:\n",
    "    print(f\"'{number}' falls within the range 0-50.\")\n",
    "elif number >= 51 and number <= 100:\n",
    "    print(f\"'{number}' falls within the range 51-100.\")\n",
    "elif number >= 101 and number <= 150:\n",
    "    print(f\"'{number}' falls within the range 101-150.\")\n",
    "else:\n",
    "    print(\"The number is above 150.\")"
   ]
  },
  {
   "cell_type": "markdown",
   "id": "684e092d",
   "metadata": {},
   "source": [
    "# For & While Loops"
   ]
  },
  {
   "cell_type": "code",
   "execution_count": 20,
   "id": "db0f7a7e",
   "metadata": {},
   "outputs": [
    {
     "name": "stdout",
     "output_type": "stream",
     "text": [
      "Enter a positive integer N: 34\n",
      "The sum of the first 34 natural numbers is: 595\n"
     ]
    }
   ],
   "source": [
    "# Sum of N Numbers\n",
    "\n",
    "N = int(input(\"Enter a positive integer N: \"))\n",
    "\n",
    "sum_NN = 0\n",
    "\n",
    "if N < 0:\n",
    "    print(\"Please give a positive integer\")\n",
    "else:\n",
    "    for i in range(1, N + 1):\n",
    "        sum_NN += i\n",
    "    print(f\"The sum of the first {N} natural numbers is: {sum_NN}\")"
   ]
  },
  {
   "cell_type": "code",
   "execution_count": 21,
   "id": "4dec00b2",
   "metadata": {},
   "outputs": [
    {
     "name": "stdout",
     "output_type": "stream",
     "text": [
      "Enter a non-negative integer N: 23\n",
      "The factorial is: 25852016738884976640000\n"
     ]
    }
   ],
   "source": [
    "# Factorial Calculator\n",
    "\n",
    "N = int(input(\"Enter a non-negative integer N: \"))\n",
    "\n",
    "factorial = 1\n",
    "\n",
    "if N < 0:\n",
    "    print(\"Factorial is not defined for negative numbers.\")\n",
    "elif N == 0:\n",
    "    print(\"The factorial of 0 is 1.\")\n",
    "else:\n",
    "    while N > 0:\n",
    "        factorial *= N\n",
    "        N -= 1\n",
    "\n",
    "    print(f\"The factorial is: {factorial}\")"
   ]
  },
  {
   "cell_type": "code",
   "execution_count": 22,
   "id": "8d7cccb9",
   "metadata": {},
   "outputs": [
    {
     "name": "stdout",
     "output_type": "stream",
     "text": [
      "Enter a number: 23\n",
      "23 x 1 = 23\n",
      "23 x 2 = 46\n",
      "23 x 3 = 69\n",
      "23 x 4 = 92\n",
      "23 x 5 = 115\n",
      "23 x 6 = 138\n",
      "23 x 7 = 161\n",
      "23 x 8 = 184\n",
      "23 x 9 = 207\n",
      "23 x 10 = 230\n"
     ]
    }
   ],
   "source": [
    "# Table of a Number\n",
    "\n",
    "N = int(input(\"Enter a number: \"))\n",
    "\n",
    "for i in range(1, 11):\n",
    "    multiply = N * i\n",
    "    print(f\"{N} x {i} = {multiply}\")"
   ]
  },
  {
   "cell_type": "code",
   "execution_count": 23,
   "id": "9abcd19b",
   "metadata": {},
   "outputs": [
    {
     "name": "stdout",
     "output_type": "stream",
     "text": [
      "Enter an integer: 23\n",
      "The number of digits in the integer is: 2\n"
     ]
    }
   ],
   "source": [
    "# Count Digits in a Number\n",
    "\n",
    "N = int(input(\"Enter an integer: \"))\n",
    "\n",
    "count = 0\n",
    "\n",
    "if N < 0:\n",
    "    N = abs(N)\n",
    "\n",
    "if N == 0:\n",
    "    count = 1\n",
    "\n",
    "while N > 0:\n",
    "    count += 1\n",
    "    N //= 10\n",
    "\n",
    "print(f\"The number of digits in the integer is: {count}\")"
   ]
  },
  {
   "cell_type": "code",
   "execution_count": 24,
   "id": "0fe9a2ef",
   "metadata": {},
   "outputs": [
    {
     "name": "stdout",
     "output_type": "stream",
     "text": [
      "Enter the limit for the Fibonacci sequence: 132\n",
      "Fibonacci sequence:\n",
      "0 1 1 2 3 5 8 13 21 34 55 89 "
     ]
    }
   ],
   "source": [
    "N = int(input(\"Enter the limit for the Fibonacci sequence: \"))\n",
    "\n",
    "fibonacci_seq = [0, 1]\n",
    "\n",
    "while fibonacci_seq[-1] + fibonacci_seq[-2] <= N:\n",
    "    next_number = fibonacci_seq[-1] + fibonacci_seq[-2]\n",
    "    fibonacci_seq.append(next_number)\n",
    "\n",
    "print(\"Fibonacci sequence:\")\n",
    "for number in fibonacci_seq:\n",
    "    print(number, end=\" \")"
   ]
  },
  {
   "cell_type": "code",
   "execution_count": 25,
   "id": "c6392002",
   "metadata": {},
   "outputs": [
    {
     "name": "stdout",
     "output_type": "stream",
     "text": [
      "Enter a positive integer N: 12\n",
      "The sum of even numbers between 1 and 12 is: 42\n"
     ]
    }
   ],
   "source": [
    "# Sum of Even Numbers\n",
    "\n",
    "N = int(input(\"Enter a positive integer N: \"))\n",
    "\n",
    "sum_even = 0\n",
    "current_num = 2\n",
    "\n",
    "if N < 2:\n",
    "    print(\"There are no even numbers between 1 and N.\")\n",
    "else:\n",
    "    while current_num <= N:\n",
    "        sum_even += current_num\n",
    "        current_num += 2\n",
    "\n",
    "    print(f\"The sum of even numbers between 1 and {N} is: {sum_even}\")"
   ]
  },
  {
   "cell_type": "code",
   "execution_count": 26,
   "id": "def1546a",
   "metadata": {},
   "outputs": [
    {
     "name": "stdout",
     "output_type": "stream",
     "text": [
      "Enter your choice (1/2/3): 1\n",
      "Enter the number of rows: 3\n",
      "* \n",
      "* * \n",
      "* * * \n"
     ]
    }
   ],
   "source": [
    "# Print Patterns\n",
    "\n",
    "def right_angled_triangle(rows):\n",
    "    for i in range(1, rows + 1):\n",
    "        for j in range(1, i + 1):\n",
    "            print(\"*\", end=\" \")\n",
    "        print()\n",
    "\n",
    "def inverted_right_angled_triangle(rows):\n",
    "    for i in range(rows, 0, -1):\n",
    "        for j in range(1, i + 1):\n",
    "            print(\"*\", end=\" \")\n",
    "        print()\n",
    "\n",
    "def sqr_pattern(rows):\n",
    "    for i in range(1, rows + 1):\n",
    "        for j in range(1, rows + 1):\n",
    "            print(\"*\", end=\" \")\n",
    "        print()\n",
    "\n",
    "choice = int(input(\"Enter your choice (1/2/3): \"))\n",
    "rows = int(input(\"Enter the number of rows: \"))\n",
    "\n",
    "if choice == 1:\n",
    "    right_angled_triangle(rows)\n",
    "elif choice == 2:\n",
    "    inverted_right_angled_triangle(rows)\n",
    "elif choice == 3:\n",
    "    sqr_pattern(rows)\n",
    "else:\n",
    "    print(\"Invalid choice. Please choose 1, 2, or 3.\")"
   ]
  },
  {
   "cell_type": "code",
   "execution_count": 27,
   "id": "5cae00fc",
   "metadata": {},
   "outputs": [
    {
     "name": "stdout",
     "output_type": "stream",
     "text": [
      "Enter a positive integer N: 45\n",
      "45 is not a prime number.\n"
     ]
    }
   ],
   "source": [
    "# Prime Number Checker\n",
    "\n",
    "N = int(input(\"Enter a positive integer N: \"))\n",
    "\n",
    "divisor_count = 0\n",
    "\n",
    "if N < 2:\n",
    "    is_prime = False\n",
    "else:\n",
    "    divisor = 2\n",
    "    while divisor * divisor <= N:\n",
    "        if N % divisor == 0:\n",
    "            divisor_count += 1\n",
    "            break\n",
    "        divisor += 1\n",
    "\n",
    "    is_prime = divisor_count == 0\n",
    "\n",
    "if is_prime:\n",
    "    print(f\"{N} is a prime number.\")\n",
    "else:\n",
    "    print(f\"{N} is not a prime number.\")"
   ]
  },
  {
   "cell_type": "code",
   "execution_count": 35,
   "id": "9e54efe7",
   "metadata": {},
   "outputs": [
    {
     "name": "stdout",
     "output_type": "stream",
     "text": [
      "Enter a list of integers separated by spaces: 2 4 8 12\n",
      "Sum of values: 26\n",
      "Average value: 6.5\n",
      "Maximum value: 12\n",
      "Minimum value: 2\n"
     ]
    }
   ],
   "source": [
    "# List Manipulation\n",
    "\n",
    "input_str = input(\"Enter a list of integers separated by spaces: \")\n",
    "int_list = [int(x) for x in input_str.split()]\n",
    "\n",
    "sum_val = 0\n",
    "max_val = float(\"-inf\")\n",
    "min_val = float(\"inf\")\n",
    "\n",
    "for num in int_list:\n",
    "    sum_val += num\n",
    "    if num > max_val:\n",
    "        max_val = num\n",
    "    if num < min_val:\n",
    "        min_val = num\n",
    "\n",
    "avg_val = sum_val / len(int_list)\n",
    "\n",
    "print(f\"Sum of values: {sum_val}\")\n",
    "print(f\"Average value: {avg_val}\")\n",
    "print(f\"Maximum value: {max_val}\")\n",
    "print(f\"Minimum value: {min_val}\")"
   ]
  },
  {
   "cell_type": "code",
   "execution_count": 39,
   "id": "a324a3c9",
   "metadata": {},
   "outputs": [
    {
     "name": "stdout",
     "output_type": "stream",
     "text": [
      "Enter a string: Rakib\n",
      "The reversed string of 'Rakib' is: bikaR\n"
     ]
    }
   ],
   "source": [
    "# Reverse String\n",
    "\n",
    "int_str = input(\"Enter a string: \")\n",
    "\n",
    "reversed_str = \"\"\n",
    "index = len(int_str) - 1\n",
    "\n",
    "while index >= 0:\n",
    "    reversed_str += int_str[index]\n",
    "    index -= 1\n",
    "\n",
    "print(f\"The reversed string of '{int_str}' is: {reversed_str}\")"
   ]
  },
  {
   "cell_type": "markdown",
   "id": "3c4e6020",
   "metadata": {},
   "source": [
    "# Nested Loops"
   ]
  },
  {
   "cell_type": "code",
   "execution_count": 1,
   "id": "d9414127",
   "metadata": {},
   "outputs": [
    {
     "name": "stdout",
     "output_type": "stream",
     "text": [
      "1 x 1 = 1\t1 x 2 = 2\t1 x 3 = 3\t1 x 4 = 4\t1 x 5 = 5\t1 x 6 = 6\t1 x 7 = 7\t1 x 8 = 8\t1 x 9 = 9\t1 x 10 = 10\t\n",
      "2 x 1 = 2\t2 x 2 = 4\t2 x 3 = 6\t2 x 4 = 8\t2 x 5 = 10\t2 x 6 = 12\t2 x 7 = 14\t2 x 8 = 16\t2 x 9 = 18\t2 x 10 = 20\t\n",
      "3 x 1 = 3\t3 x 2 = 6\t3 x 3 = 9\t3 x 4 = 12\t3 x 5 = 15\t3 x 6 = 18\t3 x 7 = 21\t3 x 8 = 24\t3 x 9 = 27\t3 x 10 = 30\t\n",
      "4 x 1 = 4\t4 x 2 = 8\t4 x 3 = 12\t4 x 4 = 16\t4 x 5 = 20\t4 x 6 = 24\t4 x 7 = 28\t4 x 8 = 32\t4 x 9 = 36\t4 x 10 = 40\t\n",
      "5 x 1 = 5\t5 x 2 = 10\t5 x 3 = 15\t5 x 4 = 20\t5 x 5 = 25\t5 x 6 = 30\t5 x 7 = 35\t5 x 8 = 40\t5 x 9 = 45\t5 x 10 = 50\t\n",
      "6 x 1 = 6\t6 x 2 = 12\t6 x 3 = 18\t6 x 4 = 24\t6 x 5 = 30\t6 x 6 = 36\t6 x 7 = 42\t6 x 8 = 48\t6 x 9 = 54\t6 x 10 = 60\t\n",
      "7 x 1 = 7\t7 x 2 = 14\t7 x 3 = 21\t7 x 4 = 28\t7 x 5 = 35\t7 x 6 = 42\t7 x 7 = 49\t7 x 8 = 56\t7 x 9 = 63\t7 x 10 = 70\t\n",
      "8 x 1 = 8\t8 x 2 = 16\t8 x 3 = 24\t8 x 4 = 32\t8 x 5 = 40\t8 x 6 = 48\t8 x 7 = 56\t8 x 8 = 64\t8 x 9 = 72\t8 x 10 = 80\t\n",
      "9 x 1 = 9\t9 x 2 = 18\t9 x 3 = 27\t9 x 4 = 36\t9 x 5 = 45\t9 x 6 = 54\t9 x 7 = 63\t9 x 8 = 72\t9 x 9 = 81\t9 x 10 = 90\t\n",
      "10 x 1 = 10\t10 x 2 = 20\t10 x 3 = 30\t10 x 4 = 40\t10 x 5 = 50\t10 x 6 = 60\t10 x 7 = 70\t10 x 8 = 80\t10 x 9 = 90\t10 x 10 = 100\t\n"
     ]
    }
   ],
   "source": [
    "# Multiplication Table\n",
    "\n",
    "for i in range(1, 11):\n",
    "    for j in range(1, 11):\n",
    "        product = i * j\n",
    "        print(f'{i} x {j} = {product}', end='\\t')\n",
    "    print()"
   ]
  },
  {
   "cell_type": "code",
   "execution_count": 2,
   "id": "8cbd30b5",
   "metadata": {},
   "outputs": [
    {
     "name": "stdout",
     "output_type": "stream",
     "text": [
      "*\n",
      "**\n",
      "***\n",
      "****\n",
      "*****\n"
     ]
    }
   ],
   "source": [
    "# Print Patterns\n",
    "number_rows = 5\n",
    "\n",
    "for i in range(1, number_rows + 1):\n",
    "    for j in range(i):\n",
    "        print('*', end='')\n",
    "    print()"
   ]
  },
  {
   "cell_type": "code",
   "execution_count": 3,
   "id": "56d70a75",
   "metadata": {},
   "outputs": [
    {
     "name": "stdout",
     "output_type": "stream",
     "text": [
      "[30, 24, 18]\n",
      "[84, 69, 54]\n",
      "[138, 114, 90]\n"
     ]
    }
   ],
   "source": [
    "# Matrix Multiplication\n",
    "A = [[1, 2, 3],\n",
    "     [4, 5, 6],\n",
    "     [7, 8, 9]]\n",
    "\n",
    "B = [[9, 8, 7],\n",
    "     [6, 5, 4],\n",
    "     [3, 2, 1]]\n",
    "\n",
    "C = [[0, 0, 0],\n",
    "     [0, 0, 0],\n",
    "     [0, 0, 0]]\n",
    "\n",
    "for i in range(len(A)):\n",
    "    for j in range(len(B[0])):\n",
    "        for k in range(len(A[0])):\n",
    "            C[i][j] += A[i][k] * B[k][j]\n",
    "\n",
    "for row in C:\n",
    "    print(row)"
   ]
  },
  {
   "cell_type": "code",
   "execution_count": 4,
   "id": "bc839f89",
   "metadata": {},
   "outputs": [
    {
     "name": "stdout",
     "output_type": "stream",
     "text": [
      "X O X O X O X O \n",
      "X O X O X O X O \n",
      "X O X O X O X O \n",
      "X O X O X O X O \n",
      "X O X O X O X O \n",
      "X O X O X O X O \n",
      "X O X O X O X O \n",
      "X O X O X O X O \n"
     ]
    }
   ],
   "source": [
    "#  Chessboard Pattern\n",
    "\n",
    "rows = 8\n",
    "cols = 8\n",
    "\n",
    "current_char = \"X\"\n",
    "\n",
    "for i in range(rows):\n",
    "    for j in range(cols):\n",
    "        print(current_char, end=' ')\n",
    "        \n",
    "        current_char = \"O\" if current_char == \"X\" else \"X\"\n",
    "    \n",
    "    print()"
   ]
  },
  {
   "cell_type": "markdown",
   "id": "083bd016",
   "metadata": {},
   "source": [
    "# List Problems"
   ]
  },
  {
   "cell_type": "code",
   "execution_count": 7,
   "id": "f0d2dd87",
   "metadata": {},
   "outputs": [
    {
     "name": "stdout",
     "output_type": "stream",
     "text": [
      "Sum of elements: 174\n"
     ]
    }
   ],
   "source": [
    "# List Sum\n",
    "\n",
    "list1 = [11, 21, 33, 14, 95]\n",
    "\n",
    "sum_list = sum(list1)\n",
    "\n",
    "print(\"Sum of elements:\", sum_list)"
   ]
  },
  {
   "cell_type": "code",
   "execution_count": 12,
   "id": "f7acf020",
   "metadata": {},
   "outputs": [
    {
     "name": "stdout",
     "output_type": "stream",
     "text": [
      "Average of elements: 34.8\n"
     ]
    }
   ],
   "source": [
    "# List Average\n",
    "\n",
    "avg = sum_list / len(list1)\n",
    "print(\"Average of elements:\", avg)"
   ]
  },
  {
   "cell_type": "code",
   "execution_count": 16,
   "id": "c3700a02",
   "metadata": {},
   "outputs": [
    {
     "name": "stdout",
     "output_type": "stream",
     "text": [
      "Maximum of the integers: 95\n",
      "Minimum of the integers: 11\n"
     ]
    }
   ],
   "source": [
    "# List Max and Min\n",
    "\n",
    "maximum_int = max(list1)\n",
    "print(\"Maximum of the integers:\", maximum_int)\n",
    "\n",
    "minimum_int = min(list1)\n",
    "print(\"Minimum of the integers:\", minimum_int)"
   ]
  },
  {
   "cell_type": "code",
   "execution_count": 17,
   "id": "308dc827",
   "metadata": {},
   "outputs": [
    {
     "name": "stdout",
     "output_type": "stream",
     "text": [
      "[11, 14, 21, 33, 95]\n"
     ]
    }
   ],
   "source": [
    "#  List Sorting\n",
    "\n",
    "sort_list = sorted(list1)\n",
    "print(sort_list)"
   ]
  },
  {
   "cell_type": "code",
   "execution_count": 18,
   "id": "a7c31719",
   "metadata": {},
   "outputs": [
    {
     "name": "stdout",
     "output_type": "stream",
     "text": [
      "Even numbers from the list: [2, 4, 6, 8, 10]\n"
     ]
    }
   ],
   "source": [
    "# List Filtering\n",
    "\n",
    "list2 = [1, 2, 3, 4, 5, 6, 7, 8, 9, 10]\n",
    "\n",
    "even_num = [x for x in list2 if x % 2 == 0]\n",
    "\n",
    "print(\"Even numbers from the list:\", even_num)"
   ]
  },
  {
   "cell_type": "code",
   "execution_count": 19,
   "id": "e0c76d0a",
   "metadata": {},
   "outputs": [
    {
     "name": "stdout",
     "output_type": "stream",
     "text": [
      "Reversed list: [95, 14, 33, 21, 11]\n"
     ]
    }
   ],
   "source": [
    "# List Reversal\n",
    "\n",
    "length = len(list1)\n",
    "\n",
    "for i in range(length // 2):\n",
    "    list1[i], list1[length - 1 - i] = list1[length - 1 - i], list1[i]\n",
    "\n",
    "print(\"Reversed list:\", list1)"
   ]
  },
  {
   "cell_type": "code",
   "execution_count": 21,
   "id": "90e54b4d",
   "metadata": {},
   "outputs": [
    {
     "name": "stdout",
     "output_type": "stream",
     "text": [
      "Common elements: [1, 5]\n"
     ]
    }
   ],
   "source": [
    "# List Manipulation\n",
    "\n",
    "list1 = [1, 2, 23, 4, 5]\n",
    "list2 = [3, 8, 5, 6, 7, 1]\n",
    "\n",
    "set1 = set(list1)\n",
    "set2 = set(list2)\n",
    "\n",
    "common = list(set1.intersection(set2))\n",
    "\n",
    "print(\"Common elements:\", common)"
   ]
  },
  {
   "cell_type": "code",
   "execution_count": 22,
   "id": "105bfffb",
   "metadata": {},
   "outputs": [
    {
     "name": "stdout",
     "output_type": "stream",
     "text": [
      "The element 2 appears 2 times in the list.\n"
     ]
    }
   ],
   "source": [
    "# List Element Count\n",
    "\n",
    "list3 = [12, 2, -2, 13, 4, 2, 51, 32]\n",
    "\n",
    "count_element = 2\n",
    "\n",
    "count = 0\n",
    "\n",
    "for item in list3:\n",
    "    if item == count_element:\n",
    "        count += 1\n",
    "\n",
    "print(f\"The element {count_element} appears {count} times in the list.\")"
   ]
  },
  {
   "cell_type": "code",
   "execution_count": 23,
   "id": "e32a5dd9",
   "metadata": {},
   "outputs": [
    {
     "name": "stdout",
     "output_type": "stream",
     "text": [
      "Unique elements: [12, 2, -2, 13, 4, 51, 32]\n"
     ]
    }
   ],
   "source": [
    "# List Duplicates Removal\n",
    "\n",
    "unique = []\n",
    "\n",
    "for item in list3:\n",
    "    if item not in unique:\n",
    "        unique.append(item)\n",
    "\n",
    "print(\"Unique elements:\", unique)"
   ]
  },
  {
   "cell_type": "code",
   "execution_count": 24,
   "id": "26616984",
   "metadata": {},
   "outputs": [
    {
     "name": "stdout",
     "output_type": "stream",
     "text": [
      "List of squares: [144, 4, 4, 169, 16, 4, 2601, 1024]\n"
     ]
    }
   ],
   "source": [
    "# List Comprehension\n",
    "\n",
    "sqr_list = [x**2 for x in list3]\n",
    "print(\"List of squares:\", sqr_list)"
   ]
  },
  {
   "cell_type": "markdown",
   "id": "2955d7f2",
   "metadata": {},
   "source": [
    "# Nested List Problems"
   ]
  },
  {
   "cell_type": "code",
   "execution_count": 5,
   "id": "ac49cafa",
   "metadata": {},
   "outputs": [
    {
     "name": "stdout",
     "output_type": "stream",
     "text": [
      "Resultant matrix after addition:\n",
      "[20, 83, 20]\n",
      "[40, 57, 10]\n",
      "[37, 20, 60]\n"
     ]
    }
   ],
   "source": [
    "# Matrix Addition\n",
    "\n",
    "def add_mat(mat1, mat2):\n",
    "    if len(mat1) != len(mat2) or len(mat1[0]) != len(mat2[0]):\n",
    "        return None\n",
    "\n",
    "    result = [[0 for _ in range(len(mat1[0]))] for _ in range(len(mat1))]\n",
    "\n",
    "    for i in range(len(mat1)):\n",
    "        for j in range(len(mat1[0])):\n",
    "            result[i][j] = mat1[i][j] + mat2[i][j]\n",
    "\n",
    "    return result\n",
    "\n",
    "mat1 = [\n",
    "    [11, 2, 13],\n",
    "    [4, 5, 6],\n",
    "    [7, 18, 59]\n",
    "]\n",
    "\n",
    "mat2 = [\n",
    "    [9, 81, 7],\n",
    "    [36, 52, 4],\n",
    "    [30, 2, 1]\n",
    "]\n",
    "\n",
    "result = add_mat(mat1, mat2)\n",
    "\n",
    "if result is not None:\n",
    "    print(\"Resultant matrix after addition:\")\n",
    "    for row in result:\n",
    "        print(row)\n",
    "else:\n",
    "    print(\"Matrices cannot be added due to different dimensions.\")"
   ]
  },
  {
   "cell_type": "code",
   "execution_count": 6,
   "id": "f7bd73f2",
   "metadata": {},
   "outputs": [
    {
     "name": "stdout",
     "output_type": "stream",
     "text": [
      "Original nested list:\n",
      "[1, [2, 3], [4, [5, 6], 7]]\n",
      "Flattened list:\n",
      "[1, 2, 3, 4, 5, 6, 7]\n"
     ]
    }
   ],
   "source": [
    "def flatten_list(nested_list):\n",
    "    flattened = []\n",
    "    for item in nested_list:\n",
    "        if isinstance(item, list):\n",
    "            flattened.extend(flatten_list(item))\n",
    "        else:\n",
    "            flattened.append(item)\n",
    "    return flattened\n",
    "\n",
    "nested_list = [1, [2, 3], [4, [5, 6], 7]]\n",
    "\n",
    "flattened_list = flatten_list(nested_list)\n",
    "\n",
    "print(\"Original nested list:\")\n",
    "print(nested_list)\n",
    "\n",
    "print(\"Flattened list:\")\n",
    "print(flattened_list)\n"
   ]
  },
  {
   "cell_type": "markdown",
   "id": "4642eea8",
   "metadata": {},
   "source": [
    "# Tuple Problems"
   ]
  },
  {
   "cell_type": "code",
   "execution_count": 28,
   "id": "20cdf162",
   "metadata": {},
   "outputs": [
    {
     "name": "stdout",
     "output_type": "stream",
     "text": [
      "Concatenated Tuple: (13, 42, 23, 53, 41, 16)\n"
     ]
    }
   ],
   "source": [
    "# Tuple Concatenation\n",
    "\n",
    "tuple1 = (13, 42, 23)\n",
    "tuple2 = (53, 41, 16)\n",
    "\n",
    "concat = tuple1 + tuple2\n",
    "\n",
    "print(\"Concatenated Tuple:\", concat)"
   ]
  },
  {
   "cell_type": "code",
   "execution_count": 29,
   "id": "ab19878b",
   "metadata": {},
   "outputs": [
    {
     "name": "stdout",
     "output_type": "stream",
     "text": [
      "x = 13 y = 42 z = 23\n"
     ]
    }
   ],
   "source": [
    "# Tuple Unpacking\n",
    "\n",
    "x, y, z = tuple1\n",
    "print(\"x =\", x, \"y =\", y, \"z =\", z)"
   ]
  },
  {
   "cell_type": "code",
   "execution_count": 30,
   "id": "c46bb5ec",
   "metadata": {},
   "outputs": [
    {
     "name": "stdout",
     "output_type": "stream",
     "text": [
      "Sorted Tuple (16, 41, 53)\n"
     ]
    }
   ],
   "source": [
    "# Tuple Sorting\n",
    "\n",
    "tuple3 = (11, 2, 52, 31, 2, -22, 52, 16, 2, 71)\n",
    "\n",
    "sort_tuple = tuple(sorted(tuple2))\n",
    "print(\"Sorted Tuple\", sort_tuple)"
   ]
  },
  {
   "cell_type": "code",
   "execution_count": 31,
   "id": "0182a793",
   "metadata": {},
   "outputs": [
    {
     "name": "stdout",
     "output_type": "stream",
     "text": [
      "The element 2 appears 3 times in the tuple.\n"
     ]
    }
   ],
   "source": [
    "# Tuple Frequency Count\n",
    "\n",
    "count_element = 2\n",
    "count_num = tuple3.count(count_element)\n",
    "print(f\"The element {count_element} appears {count_num} times in the tuple.\")"
   ]
  },
  {
   "cell_type": "code",
   "execution_count": 33,
   "id": "c3630268",
   "metadata": {},
   "outputs": [
    {
     "name": "stdout",
     "output_type": "stream",
     "text": [
      "Tuple converted to a <class 'list'>: [11, 2, 52, 31, 2, -22, 52, 16, 2, 71]\n"
     ]
    }
   ],
   "source": [
    "# Tuple to List\n",
    "\n",
    "tuple_to_list = list(tuple3)\n",
    "print(f\"Tuple converted to a {type(tuple_to_list)}:\", tuple_to_list)"
   ]
  },
  {
   "cell_type": "code",
   "execution_count": 34,
   "id": "a67f52b3",
   "metadata": {},
   "outputs": [
    {
     "name": "stdout",
     "output_type": "stream",
     "text": [
      "Reversed Tuple: (71, 2, 16, 52, -22, 2, 31, 52, 2, 11)\n"
     ]
    }
   ],
   "source": [
    "# Tuple Reversal\n",
    "\n",
    "reverse = ()\n",
    "for element in tuple3[::-1]:\n",
    "    reverse += (element,)\n",
    "\n",
    "print(\"Reversed Tuple:\", reverse)"
   ]
  },
  {
   "cell_type": "code",
   "execution_count": 35,
   "id": "83faf78c",
   "metadata": {},
   "outputs": [
    {
     "name": "stdout",
     "output_type": "stream",
     "text": [
      "Sliced Tuple: (52, 31, 2, -22)\n"
     ]
    }
   ],
   "source": [
    "# Tuple Slicing\n",
    "\n",
    "start = 2\n",
    "end = 6\n",
    "sliced_tuple = tuple3[start:end]\n",
    "print(\"Sliced Tuple:\", sliced_tuple)"
   ]
  },
  {
   "cell_type": "code",
   "execution_count": 37,
   "id": "d145b1eb",
   "metadata": {},
   "outputs": [
    {
     "name": "stdout",
     "output_type": "stream",
     "text": [
      "Element-wise addition result: (66, 83, 39)\n",
      "Element-wise subtraction result: (-40, 1, 7)\n",
      "Element-wise multiplication result: (689, 1722, 368)\n"
     ]
    }
   ],
   "source": [
    "# Tuple Operations\n",
    "\n",
    "addition = tuple(x + y for x, y in zip(tuple1, tuple2))\n",
    "subtraction = tuple(x - y for x, y in zip(tuple1, tuple2))\n",
    "multiplication = tuple(x * y for x, y in zip(tuple1, tuple2))\n",
    "\n",
    "print(\"Element-wise addition result:\", addition)\n",
    "print(\"Element-wise subtraction result:\", subtraction)\n",
    "print(\"Element-wise multiplication result:\", multiplication)"
   ]
  },
  {
   "cell_type": "code",
   "execution_count": 40,
   "id": "6a91df01",
   "metadata": {},
   "outputs": [
    {
     "name": "stdout",
     "output_type": "stream",
     "text": [
      "Enter an element: 1\n",
      "1 does not exist in the tuple.\n"
     ]
    }
   ],
   "source": [
    "# Tuple Membership Test\n",
    "\n",
    "check = int(input(\"Enter an element: \"))\n",
    "\n",
    "if check in tuple3:\n",
    "    print(f\"{check} exists in the tuple.\")\n",
    "else:\n",
    "    print(f\"{check} does not exist in the tuple.\")"
   ]
  },
  {
   "cell_type": "code",
   "execution_count": 41,
   "id": "a523b903",
   "metadata": {},
   "outputs": [
    {
     "name": "stdout",
     "output_type": "stream",
     "text": [
      "Packed Tuple: ('Rakib Rahman', 23)\n"
     ]
    }
   ],
   "source": [
    "# Tuple Packing\n",
    "\n",
    "name = \"Rakib Rahman\"\n",
    "age = 23\n",
    "pack_tuple = (name, age)\n",
    "print(\"Packed Tuple:\", pack_tuple)"
   ]
  },
  {
   "cell_type": "markdown",
   "id": "292fac51",
   "metadata": {},
   "source": [
    "# Set Problems"
   ]
  },
  {
   "cell_type": "code",
   "execution_count": 43,
   "id": "fa710ff7",
   "metadata": {},
   "outputs": [
    {
     "name": "stdout",
     "output_type": "stream",
     "text": [
      "Enter a list of elements separated by spaces: 2 45 2 5 6 21 4\n",
      "Set with unique elements: {'5', '2', '4', '45', '6', '21'}\n"
     ]
    }
   ],
   "source": [
    "# Duplicate Removal\n",
    "\n",
    "input_list = input(\"Enter a list of elements separated by spaces: \").split()\n",
    "unique = set(input_list)\n",
    "print(\"Set with unique elements:\", unique)"
   ]
  },
  {
   "cell_type": "code",
   "execution_count": 44,
   "id": "28a8aa73",
   "metadata": {},
   "outputs": [
    {
     "name": "stdout",
     "output_type": "stream",
     "text": [
      "Common elements: {41, 25}\n"
     ]
    }
   ],
   "source": [
    "# Set Intersection\n",
    "\n",
    "A = {11, 21, 53, 41, 25}\n",
    "B = {13, 41, 25, 26, 71}\n",
    "intersection = A & B\n",
    "print(\"Common elements:\", intersection)"
   ]
  },
  {
   "cell_type": "code",
   "execution_count": 45,
   "id": "8d58b308",
   "metadata": {},
   "outputs": [
    {
     "name": "stdout",
     "output_type": "stream",
     "text": [
      "Union elements of sets A and B: {71, 41, 11, 13, 21, 53, 25, 26}\n"
     ]
    }
   ],
   "source": [
    "# Set Union\n",
    "\n",
    "union_result = A | B\n",
    "print(\"Union elements of sets A and B:\", union_result)"
   ]
  },
  {
   "cell_type": "code",
   "execution_count": 46,
   "id": "f9bd161e",
   "metadata": {},
   "outputs": [
    {
     "name": "stdout",
     "output_type": "stream",
     "text": [
      "Elements present in set A but not in set B: {11, 53, 21}\n"
     ]
    }
   ],
   "source": [
    "# Set Difference\n",
    "\n",
    "difference = A - B\n",
    "print(\"Elements present in set A but not in set B:\", difference)"
   ]
  },
  {
   "cell_type": "code",
   "execution_count": 47,
   "id": "1075f45b",
   "metadata": {},
   "outputs": [
    {
     "name": "stdout",
     "output_type": "stream",
     "text": [
      "Elements present only in either A or B: {21, 53, 71, 26, 11, 13}\n"
     ]
    }
   ],
   "source": [
    "# Set Symmetric Difference\n",
    "\n",
    "symmetric = A ^ B\n",
    "print(\"Elements present only in either A or B:\", symmetric)"
   ]
  },
  {
   "cell_type": "code",
   "execution_count": 48,
   "id": "83ebc945",
   "metadata": {},
   "outputs": [
    {
     "name": "stdout",
     "output_type": "stream",
     "text": [
      "Intersection of sets A and B: {3, 4, 5}\n",
      "Union of sets B and C: {3, 4, 5, 6, 7, 8, 9}\n",
      "Difference between sets C and A: {8, 9, 6, 7}\n"
     ]
    }
   ],
   "source": [
    "# Set Operations\n",
    "\n",
    "A = {1, 2, 3, 4, 5}\n",
    "B = {3, 4, 5, 6, 7}\n",
    "C = {5, 6, 7, 8, 9}\n",
    "\n",
    "intersection_AB = A.intersection(B)\n",
    "print(\"Intersection of sets A and B:\", intersection_AB)\n",
    "union_BC = B.union(C)\n",
    "print(\"Union of sets B and C:\", union_BC)\n",
    "difference_CA = C.difference(A)\n",
    "print(\"Difference between sets C and A:\", difference_CA)"
   ]
  },
  {
   "cell_type": "code",
   "execution_count": 51,
   "id": "f78f6c80",
   "metadata": {},
   "outputs": [
    {
     "name": "stdout",
     "output_type": "stream",
     "text": [
      "Set A is not a subset of set B.\n"
     ]
    }
   ],
   "source": [
    "# Set Subset Check\n",
    "\n",
    "A = {1, 2, 7}\n",
    "B = {1, 2, 3, 4, 5}\n",
    "\n",
    "is_subset = A <= B\n",
    "\n",
    "if is_subset:\n",
    "    print(\"Set A is a subset of set B.\")\n",
    "else:\n",
    "    print(\"Set A is not a subset of set B.\")"
   ]
  },
  {
   "cell_type": "code",
   "execution_count": 52,
   "id": "b7d0c4a3",
   "metadata": {},
   "outputs": [
    {
     "name": "stdout",
     "output_type": "stream",
     "text": [
      "Set A is not a superset of set B.\n"
     ]
    }
   ],
   "source": [
    "# Set Superset Check\\\n",
    "\n",
    "is_superset = B >= A\n",
    "\n",
    "if is_superset:\n",
    "    print(\"Set A is a superset of set B.\")\n",
    "else:\n",
    "    print(\"Set A is not a superset of set B.\")"
   ]
  },
  {
   "cell_type": "code",
   "execution_count": 54,
   "id": "02883189",
   "metadata": {},
   "outputs": [
    {
     "name": "stdout",
     "output_type": "stream",
     "text": [
      "Enter elements separatedly: 1 7 4 9 32\n",
      "Number of elements: 5\n"
     ]
    }
   ],
   "source": [
    "# Set Length Check\n",
    "\n",
    "input_set = set(input(\"Enter elements separatedly: \").split())\n",
    "print(\"Number of elements:\", len(input_set))"
   ]
  },
  {
   "cell_type": "code",
   "execution_count": 57,
   "id": "81b295f9",
   "metadata": {},
   "outputs": [
    {
     "name": "stdout",
     "output_type": "stream",
     "text": [
      "Enter an element: 13\n",
      "Not Found\n"
     ]
    }
   ],
   "source": [
    "# Set Membership Test\n",
    "\n",
    "check = int(input(\"Enter an element: \"))\n",
    "if check in B:\n",
    "    print(\"Found\")\n",
    "else:\n",
    "    print(\"Not Found\")"
   ]
  },
  {
   "cell_type": "markdown",
   "id": "be1dfaac",
   "metadata": {},
   "source": [
    "# Dictionary Problems"
   ]
  },
  {
   "cell_type": "code",
   "execution_count": 1,
   "id": "fe0b5e6e",
   "metadata": {},
   "outputs": [
    {
     "name": "stdout",
     "output_type": "stream",
     "text": [
      "Student scores: {'Rakib': 82, 'Sakib': 85, 'Tamim': 78, 'Tanvir': 90}\n"
     ]
    }
   ],
   "source": [
    "# Dictionary Manipulation\n",
    "\n",
    "scores = {\n",
    "    \"Rakib\": 90,\n",
    "    \"Sakib\": 85,\n",
    "    \"Tamim\": 78\n",
    "}\n",
    "\n",
    "def add_or_update(name, score):\n",
    "    scores[name] = score\n",
    "\n",
    "add_or_update(\"Rakib\", 82)\n",
    "add_or_update(\"Tanvir\", 90)\n",
    "\n",
    "print(\"Student scores:\", scores)"
   ]
  },
  {
   "cell_type": "code",
   "execution_count": 3,
   "id": "72141a46",
   "metadata": {},
   "outputs": [
    {
     "name": "stdout",
     "output_type": "stream",
     "text": [
      "Key: Rakib, Value: 82\n",
      "Key: Sakib, Value: 85\n",
      "Key: Tamim, Value: 78\n",
      "Key: Tanvir, Value: 90\n"
     ]
    }
   ],
   "source": [
    "# Dictionary Keys and Values\n",
    "\n",
    "def keys_and_values(input_dict):\n",
    "    for key, value in input_dict.items():\n",
    "        print(f\"Key: {key}, Value: {value}\")\n",
    "\n",
    "keys_and_values(scores)"
   ]
  },
  {
   "cell_type": "code",
   "execution_count": 4,
   "id": "31a85abb",
   "metadata": {},
   "outputs": [
    {
     "name": "stdout",
     "output_type": "stream",
     "text": [
      "The number of key-value pairs in the dictionary is: 4\n"
     ]
    }
   ],
   "source": [
    "# Dictionary Length\n",
    "\n",
    "print(f\"The number of key-value pairs in the dictionary is: {len(scores)}\")"
   ]
  },
  {
   "cell_type": "code",
   "execution_count": 6,
   "id": "81298bfe",
   "metadata": {},
   "outputs": [
    {
     "name": "stdout",
     "output_type": "stream",
     "text": [
      "The item with price 35 is: orange\n"
     ]
    }
   ],
   "source": [
    "# Dictionary Value Search\n",
    "\n",
    "def search_by_price(item_dict, target_price):\n",
    "    found_item = None\n",
    "\n",
    "    for item, price in item_dict.items():\n",
    "        if price == target_price:\n",
    "            found_item = item\n",
    "            break\n",
    "\n",
    "    if found_item:\n",
    "        print(f\"The item with price {target_price} is: {found_item}\")\n",
    "    else:\n",
    "        print(f\"No item found with price {target_price}\")\n",
    "\n",
    "item_prices = {\n",
    "    \"apple\": 20,\n",
    "    \"banana\": 10,\n",
    "    \"mango\": 30,\n",
    "    \"orange\": 35,\n",
    "}\n",
    "\n",
    "search_price = 35\n",
    "search_by_price(item_prices, search_price)"
   ]
  },
  {
   "cell_type": "code",
   "execution_count": 7,
   "id": "302a7e6e",
   "metadata": {},
   "outputs": [
    {
     "name": "stdout",
     "output_type": "stream",
     "text": [
      "Merged dictionary: {'Rakib': 90, 'Sakib': 85, 'Tanvir': 90, 'Tamim': 78}\n"
     ]
    }
   ],
   "source": [
    "# Dictionary Merging\n",
    "\n",
    "def merge(sectionA, sectionB):\n",
    "    result = sectionA.copy()\n",
    "    result.update(sectionB)\n",
    "    return result\n",
    "\n",
    "sectionA = {\n",
    "    \"Rakib\": 90,\n",
    "    \"Sakib\": 85\n",
    "}\n",
    "sectionB = {\n",
    "    \"Tanvir\": 90,\n",
    "    \"Tamim\": 78,\n",
    "}\n",
    "\n",
    "merged_dict = merge(sectionA, sectionB)\n",
    "print(\"Merged dictionary:\", merged_dict)"
   ]
  },
  {
   "cell_type": "code",
   "execution_count": 11,
   "id": "1762f8c4",
   "metadata": {},
   "outputs": [
    {
     "name": "stdout",
     "output_type": "stream",
     "text": [
      "Current dictionary: {'apple': 2, 'banana': 1, 'mango': 3, 'orange': 5}\n",
      "Enter the item to remove: apple\n",
      "Removed 'apple' from the dictionary.\n",
      "Updated dictionary: {'banana': 1, 'mango': 3, 'orange': 5}\n"
     ]
    }
   ],
   "source": [
    "# Dictionary Key Removal\n",
    "\n",
    "def remove(item_dict, item_to_remove):\n",
    "    if item_to_remove in item_dict:\n",
    "        del item_dict[item_to_remove]\n",
    "        print(f\"Removed '{item_to_remove}' from the dictionary.\")\n",
    "    else:\n",
    "        print(f\"'{item_to_remove}' not found in the dictionary.\")\n",
    "\n",
    "item_quantities = {\n",
    "    \"apple\": 2,\n",
    "    \"banana\": 1,\n",
    "    \"mango\": 3,\n",
    "    \"orange\": 5,\n",
    "}\n",
    "print(\"Current dictionary:\", item_quantities)\n",
    "item_to_remove = input(\"Enter the item to remove: \").strip()\n",
    "remove(item_quantities, item_to_remove)\n",
    "print(\"Updated dictionary:\", item_quantities)"
   ]
  },
  {
   "cell_type": "code",
   "execution_count": 12,
   "id": "7c401fb1",
   "metadata": {},
   "outputs": [
    {
     "name": "stdout",
     "output_type": "stream",
     "text": [
      "Sorted dictionary by age (ascending order):\n",
      "Sakib: 35\n",
      "Rakib: 40\n",
      "Tamim: 48\n"
     ]
    }
   ],
   "source": [
    "# Dictionary Sorting\n",
    "\n",
    "def sort_by_age(input_dict):\n",
    "    sorted_dict = dict(sorted(input_dict.items(), key=lambda item: item[1]))\n",
    "    return sorted_dict\n",
    "\n",
    "students_age = {\n",
    "    \"Rakib\": 40,\n",
    "    \"Sakib\": 35,\n",
    "    \"Tamim\": 48\n",
    "}\n",
    "\n",
    "sorted_age_dict = sort_by_age(students_age)\n",
    "print(\"Sorted dictionary by age (ascending order):\")\n",
    "for name, age in sorted_age_dict.items():\n",
    "    print(f\"{name}: {age}\")"
   ]
  },
  {
   "cell_type": "code",
   "execution_count": 14,
   "id": "a48ec22d",
   "metadata": {},
   "outputs": [
    {
     "name": "stdout",
     "output_type": "stream",
     "text": [
      "Enter a string: madam\n",
      "Character frequency dictionary:\n",
      "'m': 2\n",
      "'a': 2\n",
      "'d': 1\n"
     ]
    }
   ],
   "source": [
    "# Dictionary Frequency Count\n",
    "\n",
    "def create_char_freq(input_string):\n",
    "    char_freq = {}\n",
    "\n",
    "    for char in input_string:\n",
    "        if char in char_freq:\n",
    "            char_freq[char] += 1\n",
    "        else:\n",
    "            char_freq[char] = 1\n",
    "\n",
    "    return char_freq\n",
    "\n",
    "input_str = input(\"Enter a string: \")\n",
    "\n",
    "char_freq = create_char_freq(input_str)\n",
    "\n",
    "print(\"Character frequency dictionary:\")\n",
    "for char, frequency in char_freq.items():\n",
    "    print(f\"'{char}': {frequency}\")"
   ]
  },
  {
   "cell_type": "code",
   "execution_count": 16,
   "id": "4e3d3d90",
   "metadata": {},
   "outputs": [
    {
     "name": "stdout",
     "output_type": "stream",
     "text": [
      "Dictionary with elements and their squares:\n",
      "1: 1\n",
      "2: 4\n",
      "3: 9\n",
      "4: 16\n",
      "5: 25\n"
     ]
    }
   ],
   "source": [
    "# Dictionary Comprehension\n",
    "\n",
    "def create_sqr(input_list):\n",
    "    sqr_dict = {}\n",
    "\n",
    "    for num in input_list:\n",
    "        sqr_dict[num] = num ** 2\n",
    "\n",
    "    return sqr_dict\n",
    "\n",
    "input_list = [1, 2, 3, 4, 5]\n",
    "\n",
    "sqr_dict = create_sqr(input_list)\n",
    "\n",
    "print(\"Dictionary with elements and their squares:\")\n",
    "for num, square in sqr_dict.items():\n",
    "    print(f\"{num}: {square}\")"
   ]
  },
  {
   "cell_type": "code",
   "execution_count": 17,
   "id": "b207f601",
   "metadata": {},
   "outputs": [
    {
     "name": "stdout",
     "output_type": "stream",
     "text": [
      "Enter a key to check: Tamim\n",
      "Key Found\n"
     ]
    }
   ],
   "source": [
    "# Dictionary Key Check\n",
    "\n",
    "def key_existence(input_dict, key_to_check):\n",
    "    if key_to_check in input_dict:\n",
    "        print(\"Key Found\")\n",
    "    else:\n",
    "        print(\"Key Not Found\")\n",
    "\n",
    "key_to_check = input(\"Enter a key to check: \")\n",
    "key_existence(scores, key_to_check)"
   ]
  },
  {
   "cell_type": "markdown",
   "id": "28c65717",
   "metadata": {},
   "source": [
    "# Nested Dictionary Problems"
   ]
  },
  {
   "cell_type": "code",
   "execution_count": 28,
   "id": "98cec2e8",
   "metadata": {},
   "outputs": [
    {
     "name": "stdout",
     "output_type": "stream",
     "text": [
      "Student \n",
      "    name: Sakib \n",
      "    age: 22\n",
      "    address: Badda\n"
     ]
    }
   ],
   "source": [
    "# Access Nested Dictionary\n",
    "\n",
    "student_details = {\n",
    "    'student1': {\n",
    "        'name': 'Rakib',\n",
    "        'age': 20,\n",
    "        'address': 'Bashundhara'\n",
    "    },\n",
    "    'student2': {\n",
    "        'name': 'Sakib',\n",
    "        'age': 22,\n",
    "        'address': 'Badda'\n",
    "    },\n",
    "    'student3': {\n",
    "        'name': 'Tamim',\n",
    "        'age': 21,\n",
    "        'address': 'Gulshan'\n",
    "    }\n",
    "}\n",
    "\n",
    "student_id = 'student2'\n",
    "\n",
    "if student_id in student_details:\n",
    "    student_info = student_details[student_id]\n",
    "    print(f\"\"\"Student \n",
    "    name: {student_info['name']} \n",
    "    age: {student_info['age']}\n",
    "    address: {student_info['address']}\"\"\")\n",
    "else:\n",
    "    print(\"Student not found in the dictionary.\")"
   ]
  },
  {
   "cell_type": "code",
   "execution_count": 33,
   "id": "91f0875a",
   "metadata": {},
   "outputs": [
    {
     "name": "stdout",
     "output_type": "stream",
     "text": [
      "Total number of key-value pairs: 12\n"
     ]
    }
   ],
   "source": [
    "# Nested Dictionary Length\n",
    "\n",
    "def count_pairs(d):\n",
    "    count = 0\n",
    "    for key, value in d.items():\n",
    "        count += 1\n",
    "        if isinstance(value, dict):\n",
    "            count += count_pairs(value)\n",
    "    return count\n",
    "\n",
    "total_pairs = count_pairs(student_details)\n",
    "print(\"Total number of key-value pairs:\", total_pairs)"
   ]
  },
  {
   "cell_type": "code",
   "execution_count": 35,
   "id": "e303c4df",
   "metadata": {},
   "outputs": [
    {
     "name": "stdout",
     "output_type": "stream",
     "text": [
      "Enter the employee ID: E2\n",
      "Enter the new salary: 45000\n",
      "Salary updated successfully.\n",
      "{'employee1': {'employee_id': 'E1', 'name': 'Rakib', 'salary': 50000}, 'employee2': {'employee_id': 'E2', 'name': 'Sakib', 'salary': 45000.0}, 'employee3': {'employee_id': 'E3', 'name': 'Tamim', 'salary': 60000}}\n"
     ]
    }
   ],
   "source": [
    "# Nested Dictionary Update\n",
    "\n",
    "employee_details = {\n",
    "    'employee1': {\n",
    "        'employee_id': 'E1',\n",
    "        'name': 'Rakib',\n",
    "        'salary': 50000\n",
    "    },\n",
    "    'employee2': {\n",
    "        'employee_id': 'E2',\n",
    "        'name': 'Sakib',\n",
    "        'salary': 55000\n",
    "    },\n",
    "    'employee3': {\n",
    "        'employee_id': 'E3',\n",
    "        'name': 'Tamim',\n",
    "        'salary': 60000\n",
    "    }\n",
    "}\n",
    "\n",
    "def update_salary(employee_id, new_salary):\n",
    "    for key, details in employee_details.items():\n",
    "        if details['employee_id'] == employee_id:\n",
    "            details['salary'] = new_salary\n",
    "            return True\n",
    "    return False\n",
    "\n",
    "employee_id = input(\"Enter the employee ID: \")\n",
    "new_salary = float(input(\"Enter the new salary: \"))\n",
    "\n",
    "if update_salary(employee_id, new_salary):\n",
    "    print(\"Salary updated successfully.\")\n",
    "else:\n",
    "    print(\"Employee with ID is not found.\")\n",
    "\n",
    "print(employee_details)"
   ]
  },
  {
   "cell_type": "code",
   "execution_count": 40,
   "id": "d4f7e1e0",
   "metadata": {},
   "outputs": [
    {
     "name": "stdout",
     "output_type": "stream",
     "text": [
      "Products sorted by price in ascending order:\n",
      "The product2 name: Banana, and price: 10.00\n",
      "The product3 name: Apple, and price: 25.00\n",
      "The product1 name: Mango, and price: 40.00\n"
     ]
    }
   ],
   "source": [
    "# Nested Dictionary Sorting\n",
    "\n",
    "product_details = {\n",
    "    'product1': {\n",
    "        'name': 'Mango',\n",
    "        'price': 40\n",
    "    },\n",
    "    'product2': {\n",
    "        'name': 'Banana',\n",
    "        'price': 10\n",
    "    },\n",
    "    'product3': {\n",
    "        'name': 'Apple',\n",
    "        'price': 25\n",
    "    }\n",
    "}\n",
    "\n",
    "sorted_products = sorted(product_details.items(), key=lambda x: x[1]['price'])\n",
    "\n",
    "print(\"Products sorted by price in ascending order:\")\n",
    "for product_id, product_info in sorted_products:\n",
    "    print(f\"The {product_id} name: {product_info['name']}, and price: {product_info['price']:.2f}\")"
   ]
  },
  {
   "cell_type": "code",
   "execution_count": 45,
   "id": "50f9d4b4",
   "metadata": {},
   "outputs": [
    {
     "name": "stdout",
     "output_type": "stream",
     "text": [
      "Enter a key to search for: product3\n",
      "The value for key 'product3' is:\n",
      "name: Apple\n",
      "price: 25\n"
     ]
    }
   ],
   "source": [
    "# Nested dictionary containing data\n",
    "\n",
    "key_to_search = input(\"Enter a key to search for: \")\n",
    "\n",
    "if key_to_search in product_details:\n",
    "    value = product_details[key_to_search]\n",
    "    print(f\"The value for key '{key_to_search}' is:\")\n",
    "    for sub_key, sub_value in value.items():\n",
    "        print(f\"{sub_key}: {sub_value}\")\n",
    "else:\n",
    "    print(\"Key Not Found.\")"
   ]
  },
  {
   "cell_type": "markdown",
   "id": "257cdbac",
   "metadata": {},
   "source": [
    "# Break & Continue"
   ]
  },
  {
   "cell_type": "code",
   "execution_count": 2,
   "id": "cb00558a",
   "metadata": {},
   "outputs": [
    {
     "name": "stdout",
     "output_type": "stream",
     "text": [
      "Enter a number: 11\n",
      "11 is a prime number\n"
     ]
    }
   ],
   "source": [
    "# Prime Number Checker\n",
    "\n",
    "num = int(input(\"Enter a number: \"))\n",
    "\n",
    "if num < 2:\n",
    "    print(f\"{num} is not a prime number\")\n",
    "else:\n",
    "    is_prime = True\n",
    "    \n",
    "    for i in range(2, int(num**0.5) + 1):\n",
    "        if num % i == 0:\n",
    "            is_prime = False\n",
    "            break\n",
    "            \n",
    "    if is_prime:\n",
    "        print(f\"{num} is a prime number\")\n",
    "    else:\n",
    "        print(f\"{num} is not a prime number\")"
   ]
  },
  {
   "cell_type": "code",
   "execution_count": 3,
   "id": "7bfa11bc",
   "metadata": {},
   "outputs": [
    {
     "name": "stdout",
     "output_type": "stream",
     "text": [
      "2\n",
      "4\n",
      "6\n",
      "8\n",
      "10\n",
      "12\n",
      "14\n",
      "16\n",
      "18\n",
      "20\n"
     ]
    }
   ],
   "source": [
    "# Even Number Printer\n",
    "\n",
    "for num in range(1, 21):\n",
    "    if num % 2 != 0:\n",
    "        continue\n",
    "    print(num)"
   ]
  },
  {
   "cell_type": "code",
   "execution_count": 4,
   "id": "d9ec5372",
   "metadata": {},
   "outputs": [
    {
     "name": "stdout",
     "output_type": "stream",
     "text": [
      "Enter a password: 3454\n",
      "Password should be at least 8 characters long.\n",
      "Enter a password: Aa1ve4v2f\n",
      "Password accepted.\n"
     ]
    }
   ],
   "source": [
    "# Password Validator\n",
    "\n",
    "while True:\n",
    "    password = input(\"Enter a password: \")\n",
    "\n",
    "    if len(password) < 8:\n",
    "        print(\"Password should be at least 8 characters long.\")\n",
    "        continue\n",
    "\n",
    "    if not any(char.isupper() for char in password):\n",
    "        print(\"Password should contain at least one uppercase letter.\")\n",
    "        continue\n",
    "\n",
    "    if not any(char.islower() for char in password):\n",
    "        print(\"Password should contain at least one lowercase letter.\")\n",
    "        continue\n",
    "\n",
    "    if not any(char.isdigit() for char in password):\n",
    "        print(\"Password should contain at least one digit.\")\n",
    "        continue\n",
    "\n",
    "    print(\"Password accepted.\")\n",
    "    break"
   ]
  },
  {
   "cell_type": "code",
   "execution_count": 6,
   "id": "38175458",
   "metadata": {},
   "outputs": [
    {
     "name": "stdout",
     "output_type": "stream",
     "text": [
      "3\n",
      "5\n",
      "6\n",
      "9\n",
      "10\n",
      "12\n",
      "15\n",
      "18\n",
      "20\n",
      "21\n",
      "24\n",
      "25\n",
      "27\n",
      "30\n",
      "33\n",
      "35\n",
      "36\n",
      "39\n",
      "40\n",
      "42\n",
      "45\n",
      "48\n",
      "50\n"
     ]
    }
   ],
   "source": [
    "# Divisible by 3 or 5\n",
    "\n",
    "for num in range(1, 51):\n",
    "    if num % 3 != 0 and num % 5 != 0:\n",
    "        continue\n",
    "    print(num)"
   ]
  },
  {
   "cell_type": "code",
   "execution_count": 7,
   "id": "0aa18e73",
   "metadata": {},
   "outputs": [
    {
     "name": "stdout",
     "output_type": "stream",
     "text": [
      "Enter number: 4\n",
      "Enter number: 5\n",
      "Enter number: 1\n",
      "Enter number: -1\n",
      "Sum of positive numbers entered: 10.0\n"
     ]
    }
   ],
   "source": [
    "# Positive Number Sum\n",
    "\n",
    "total = 0\n",
    "\n",
    "while True:\n",
    "    num = float(input(\"Enter number: \"))\n",
    "    \n",
    "    if num < 0:\n",
    "        break\n",
    "    \n",
    "    total += num\n",
    "\n",
    "print(\"Sum of positive numbers entered:\", total)"
   ]
  },
  {
   "cell_type": "code",
   "execution_count": 13,
   "id": "0f4c31cb",
   "metadata": {},
   "outputs": [
    {
     "name": "stdout",
     "output_type": "stream",
     "text": [
      "Enter a word: Madam\n",
      "Madam is a palindrome.\n"
     ]
    }
   ],
   "source": [
    "# Word Palindrome Checker\n",
    "\n",
    "input_word = input(\"Enter a word: \")\n",
    "word = input_word.lower()\n",
    "\n",
    "if len(word) < 3:\n",
    "    print(\"Word is too short.\")\n",
    "else:\n",
    "    is_palindrome = True\n",
    "    \n",
    "    for i in range(len(word) // 2):\n",
    "        if word[i] != word[-i - 1]:\n",
    "            is_palindrome = False\n",
    "            break\n",
    "            \n",
    "    if is_palindrome:\n",
    "        print(f\"{input_word} is a palindrome.\")\n",
    "    else:\n",
    "        print(f\"{input_word} is not a palindrome.\")"
   ]
  },
  {
   "cell_type": "code",
   "execution_count": 16,
   "id": "e7be65f6",
   "metadata": {},
   "outputs": [
    {
     "name": "stdout",
     "output_type": "stream",
     "text": [
      "The first odd number is: 9\n"
     ]
    }
   ],
   "source": [
    "# Odd Number Finder\n",
    "\n",
    "numbers = [52, 42, 46, 18, 9, 10, 12]\n",
    "\n",
    "first_odd = None\n",
    "\n",
    "for num in numbers:\n",
    "    if num % 2 != 0:\n",
    "        first_odd = num\n",
    "        break\n",
    "\n",
    "if first_odd is not None:\n",
    "    print(\"The first odd number is:\", first_odd)\n",
    "else:\n",
    "    print(\"There is no odd number.\")"
   ]
  },
  {
   "cell_type": "code",
   "execution_count": 19,
   "id": "9749f617",
   "metadata": {},
   "outputs": [
    {
     "name": "stdout",
     "output_type": "stream",
     "text": [
      "Guess the number between 1 and 100: 56\n",
      "Try again. The number is lower.\n",
      "Guess the number between 1 and 100: 52\n",
      "Try again. The number is higher.\n",
      "Guess the number between 1 and 100: 53\n",
      "Try again. The number is higher.\n",
      "Guess the number between 1 and 100: 54\n",
      "You guessed the correct number: 54\n"
     ]
    }
   ],
   "source": [
    "import random\n",
    "\n",
    "rand_num = random.randint(1, 100)\n",
    "\n",
    "while True:\n",
    "    guess = int(input(\"Guess the number between 1 and 100: \"))\n",
    "\n",
    "    if guess == rand_num:\n",
    "        print(\"You guessed the correct number:\", rand_num)\n",
    "        break\n",
    "    elif guess < rand_num:\n",
    "        print(\"Try again. The number is higher.\")\n",
    "    else:\n",
    "        print(\"Try again. The number is lower.\")"
   ]
  },
  {
   "cell_type": "code",
   "execution_count": 21,
   "id": "c0d9dde0",
   "metadata": {},
   "outputs": [
    {
     "name": "stdout",
     "output_type": "stream",
     "text": [
      "Enter a string: bangladesh\n",
      "Number of vowels in bangladesh is: 3\n"
     ]
    }
   ],
   "source": [
    "# Vowel Counter\n",
    "\n",
    "input_str = input(\"Enter a string: \")\n",
    "\n",
    "vowel_count = 0\n",
    "\n",
    "vowels = {'a', 'e', 'i', 'o', 'u'}\n",
    "\n",
    "for char in input_str:\n",
    "    if char.lower() not in vowels:\n",
    "        continue\n",
    "    vowel_count += 1\n",
    "\n",
    "print(f\"Number of vowels in {input_str} is: {vowel_count}\")"
   ]
  },
  {
   "cell_type": "code",
   "execution_count": 23,
   "id": "7e075c9b",
   "metadata": {},
   "outputs": [
    {
     "name": "stdout",
     "output_type": "stream",
     "text": [
      "Enter a string: Rakib\n",
      "The string contains all unique characters.\n"
     ]
    }
   ],
   "source": [
    "# Unique Characters\n",
    "\n",
    "input_str = input(\"Enter a string: \")\n",
    "\n",
    "is_unique = True\n",
    "\n",
    "for i in range(len(input_str)):\n",
    "    char = input_str[i]\n",
    "    \n",
    "    if char in input_str[i + 1:]:\n",
    "        is_unique = False\n",
    "        break\n",
    "\n",
    "if is_unique:\n",
    "    print(\"The string contains all unique characters.\")\n",
    "else:\n",
    "    print(\"The string contains repeated characters.\")"
   ]
  },
  {
   "cell_type": "markdown",
   "id": "43788127",
   "metadata": {},
   "source": [
    "# Functions Problems"
   ]
  },
  {
   "cell_type": "code",
   "execution_count": 4,
   "id": "128dfb73",
   "metadata": {},
   "outputs": [
    {
     "name": "stdout",
     "output_type": "stream",
     "text": [
      "The factorial of 0 is: 1\n",
      "The factorial of 1 is: 1\n",
      "The factorial of 3 is: 6\n",
      "The factorial of 7 is: 5040\n"
     ]
    }
   ],
   "source": [
    "# Factorial Calculator\n",
    "\n",
    "def factorial(n):\n",
    "    if n < 0:\n",
    "        return \"Factorial is not defined for negative numbers\"\n",
    "    elif n == 0 or n == 1:\n",
    "        return 1\n",
    "    else:\n",
    "        return n * factorial(n - 1)\n",
    "\n",
    "test_values = [0, 1, 3, 7]\n",
    "for value in test_val:\n",
    "    print(f\"The factorial of {value} is: {factorial(value)}\")"
   ]
  },
  {
   "cell_type": "code",
   "execution_count": 3,
   "id": "8730efb9",
   "metadata": {},
   "outputs": [
    {
     "name": "stdout",
     "output_type": "stream",
     "text": [
      "Is 'facebook' a palindrome? False\n",
      "Is 'palindrome' a palindrome? False\n",
      "Is 'Madam' a palindrome? True\n",
      "Is 'Hello' a palindrome? False\n"
     ]
    }
   ],
   "source": [
    "# Palindrome Checker\n",
    "\n",
    "def is_palindrome(s):\n",
    "    clean_text = ''.join(s.split()).lower()\n",
    "    return clean_text == clean_text[::-1]\n",
    "\n",
    "test_words = [\"facebook\", \"palindrome\", \"Madam\", \"Hello\"]\n",
    "\n",
    "for word in test_words:\n",
    "    print(f\"Is '{word}' a palindrome? {is_palindrome(word)}\")"
   ]
  },
  {
   "cell_type": "code",
   "execution_count": 6,
   "id": "14a93e67",
   "metadata": {},
   "outputs": [
    {
     "name": "stdout",
     "output_type": "stream",
     "text": [
      "The number 0 is: Even\n",
      "The number 1 is: Odd\n",
      "The number 8 is: Even\n",
      "The number 15 is: Odd\n",
      "The number -2 is: Even\n",
      "The number -7 is: Odd\n"
     ]
    }
   ],
   "source": [
    "# Even or Odd CheckerEven or Odd Checker\n",
    "\n",
    "def check_num(n):\n",
    "    return \"Even\" if n % 2 == 0 else \"Odd\"\n",
    "\n",
    "test_numbers = [0, 1, 8, 15, -2, -7]\n",
    "\n",
    "for number in test_numbers:\n",
    "    print(f\"The number {number} is: {check_num(number)}\")"
   ]
  },
  {
   "cell_type": "code",
   "execution_count": 9,
   "id": "cacf8440",
   "metadata": {},
   "outputs": [
    {
     "name": "stdout",
     "output_type": "stream",
     "text": [
      "The sum of [1, 2, 13, 4, 5] is: 25\n",
      "The sum of [-10, 2, -3, -4, 15] is: 0\n"
     ]
    }
   ],
   "source": [
    "# List Sum Calculator\n",
    "\n",
    "def list_sum(numbers):\n",
    "    return sum(numbers)\n",
    "\n",
    "test_lists = [\n",
    "    [1, 2, 13, 4, 5],\n",
    "    [-10, 2, -3, -4, 15]\n",
    "]\n",
    "\n",
    "for each_list in test_lists:\n",
    "    print(f\"The sum of {each_list} is: {list_sum(each_list)}\")"
   ]
  },
  {
   "cell_type": "code",
   "execution_count": 15,
   "id": "25ff4a99",
   "metadata": {},
   "outputs": [
    {
     "name": "stdout",
     "output_type": "stream",
     "text": [
      "The GCD of 21 and 28 is: 7\n",
      "The GCD of 18 and 38 is: 2\n",
      "The GCD of 11 and 13 is: 1\n"
     ]
    }
   ],
   "source": [
    "# Greatest Common Divisor (GCD) Calculator\n",
    "\n",
    "import math\n",
    "\n",
    "def gcd(a, b):\n",
    "    return math.gcd(a, b)\n",
    "\n",
    "test_pairs = [\n",
    "    (21, 28),\n",
    "    (18, 38),\n",
    "    (11, 13)\n",
    "]\n",
    "for a, b in test_pairs:\n",
    "    print(f\"The GCD of {a} and {b} is: {gcd(a, b)}\")"
   ]
  },
  {
   "cell_type": "code",
   "execution_count": 16,
   "id": "ad9a1b08",
   "metadata": {},
   "outputs": [
    {
     "name": "stdout",
     "output_type": "stream",
     "text": [
      "Is 2000 a leap year? True\n",
      "Is 2001 a leap year? False\n",
      "Is 2004 a leap year? True\n",
      "Is 1980 a leap year? True\n",
      "Is 1999 a leap year? False\n",
      "Is 2023 a leap year? False\n"
     ]
    }
   ],
   "source": [
    "# Leap Year Checker\n",
    "\n",
    "def is_leap_year(year):\n",
    "    return (year % 4 == 0 and year % 100 != 0) or (year % 400 == 0)\n",
    "\n",
    "test_years = [2000, 2001, 2004, 1980, 1999, 2023]\n",
    "for year in test_years:\n",
    "    print(f\"Is {year} a leap year? {is_leap_year(year)}\")"
   ]
  },
  {
   "cell_type": "markdown",
   "id": "5de6fc8c",
   "metadata": {},
   "source": [
    "# Nested Functions Problems"
   ]
  },
  {
   "cell_type": "code",
   "execution_count": 19,
   "id": "115c4d0c",
   "metadata": {},
   "outputs": [
    {
     "name": "stdout",
     "output_type": "stream",
     "text": [
      "Result of add: 46\n"
     ]
    }
   ],
   "source": [
    "# Math Operations\n",
    "\n",
    "def add(x, y, z):\n",
    "    return x + y + z\n",
    "\n",
    "def subtract(x, y, z):\n",
    "    return x - y - z\n",
    "\n",
    "def multiply(x, y, z):\n",
    "    return x * y * z\n",
    "\n",
    "def divide(x, y, z):\n",
    "    if y == 0 or z == 0:\n",
    "        return \"Division by zero is not allowed\"\n",
    "    return x / y / z\n",
    "\n",
    "def math_operations(x, y, z, operation):\n",
    "    if operation == 'add':\n",
    "        return add(x, y, z)\n",
    "    elif operation == 'subtract':\n",
    "        return subtract(x, y, z)\n",
    "    elif operation == 'multiply':\n",
    "        return multiply(x, y, z)\n",
    "    elif operation == 'divide':\n",
    "        return divide(x, y, z)\n",
    "    else:\n",
    "        return \"Invalid operation.\"\n",
    "\n",
    "num1 = 10\n",
    "num2 = 15\n",
    "num3 = 21\n",
    "operation = 'add'\n",
    "\n",
    "result = math_operations(num1, num2, num3, operation)\n",
    "print(f\"Result of {operation}: {result}\")"
   ]
  },
  {
   "cell_type": "code",
   "execution_count": 20,
   "id": "3e412539",
   "metadata": {},
   "outputs": [
    {
     "name": "stdout",
     "output_type": "stream",
     "text": [
      "What is your name?Rakib\n",
      "Hello, Rakib! How are you today?\n"
     ]
    }
   ],
   "source": [
    "# Greeting Generator\n",
    "\n",
    "def greeting_generator(greeting_template):\n",
    "    def generate_greeting(name):\n",
    "        return greeting_template.format(name=name)\n",
    "\n",
    "    return generate_greeting\n",
    "\n",
    "custom_greeting = greeting_generator(\"Hello, {name}! How are you today?\")\n",
    "\n",
    "name = input(\"What is your name?\")\n",
    "greeting_msg = custom_greeting(name)\n",
    "print(greeting_msg)"
   ]
  },
  {
   "cell_type": "code",
   "execution_count": 22,
   "id": "0afd3982",
   "metadata": {},
   "outputs": [
    {
     "name": "stdout",
     "output_type": "stream",
     "text": [
      "25 degrees Celsius is equal to 77.00 degrees F\n"
     ]
    }
   ],
   "source": [
    "# Temperature Converter\n",
    "\n",
    "def temp_convert(value, source_scale):\n",
    "    def C2F(celsius):\n",
    "        return (celsius * 9/5) + 32\n",
    "\n",
    "    def F2C(fahrenheit):\n",
    "        return (fahrenheit - 32) * 5/9\n",
    "\n",
    "    if source_scale == 'C':\n",
    "        convert_val = C2F(value)\n",
    "        target_scale = 'F'\n",
    "    elif source_scale == 'F':\n",
    "        convert_val = F2C(value)\n",
    "        target_scale = 'C'\n",
    "    else:\n",
    "        return \"Invalid scale. Supported scales: 'C' for Celsius, 'F' for Fahrenheit.\"\n",
    "\n",
    "    return convert_val, target_scale\n",
    "\n",
    "celsius_val = 25\n",
    "source_scale = 'C'\n",
    "\n",
    "convert_val, target_scale = temp_convert(celsius_val, source_scale)\n",
    "\n",
    "print(f\"{celsius_val} degrees Celsius is equal to {convert_val:.2f} degrees {target_scale}\")"
   ]
  },
  {
   "cell_type": "markdown",
   "id": "7b086282",
   "metadata": {},
   "source": [
    "# Recursion"
   ]
  },
  {
   "cell_type": "code",
   "execution_count": 6,
   "id": "3a03a413",
   "metadata": {},
   "outputs": [
    {
     "name": "stdout",
     "output_type": "stream",
     "text": [
      "The factorial of 5 is: 120\n"
     ]
    }
   ],
   "source": [
    "# Factorial Calculation\n",
    "\n",
    "def factorial(n):\n",
    "    if n == 0 or n == 1:\n",
    "        return 1\n",
    "    else:\n",
    "        return n * factorial(n - 1)\n",
    "\n",
    "n=5\n",
    "print(f\"The factorial of 5 is: {factorial(n)}\")"
   ]
  },
  {
   "cell_type": "code",
   "execution_count": 10,
   "id": "108b8352",
   "metadata": {},
   "outputs": [
    {
     "name": "stdout",
     "output_type": "stream",
     "text": [
      "The factorial of 5 is: 55\n"
     ]
    }
   ],
   "source": [
    "# Fibonacci Series\n",
    "\n",
    "def Fibonacci(n):\n",
    "    if n == 0:\n",
    "        return 0\n",
    "    elif n == 1:\n",
    "        return 1\n",
    "    else:\n",
    "        return Fibonacci(n - 1) + Fibonacci(n - 2)\n",
    "\n",
    "N = 10\n",
    "print(f\"The factorial of 5 is: {Fibonacci(N)}\")"
   ]
  },
  {
   "cell_type": "code",
   "execution_count": 18,
   "id": "68a76547",
   "metadata": {},
   "outputs": [
    {
     "name": "stdout",
     "output_type": "stream",
     "text": [
      "The sum of digits 45 is: 9\n"
     ]
    }
   ],
   "source": [
    "# The sum of Digits\n",
    "\n",
    "def sum_of_digits(n):\n",
    "    if n < 10:\n",
    "        return n\n",
    "    else:\n",
    "        last_digit = n % 10\n",
    "        remain_digits = n // 10\n",
    "        return last_digit + sum_of_digits(remain_digits)\n",
    "\n",
    "num = 45\n",
    "print(f\"The sum of digits {num} is: {sum_of_digits(num)}\")"
   ]
  },
  {
   "cell_type": "code",
   "execution_count": 19,
   "id": "5f638137",
   "metadata": {},
   "outputs": [
    {
     "name": "stdout",
     "output_type": "stream",
     "text": [
      "8\n"
     ]
    }
   ],
   "source": [
    "#  Power Calculation\n",
    "\n",
    "def power(base, exponent):\n",
    "    if exponent == 0:\n",
    "        return 1\n",
    "    else:\n",
    "        return base * power(base, exponent - 1)\n",
    "\n",
    "base = 2\n",
    "exponent = 3\n",
    "result = power(base, exponent)\n",
    "print(result)"
   ]
  }
 ],
 "metadata": {
  "kernelspec": {
   "display_name": "Python 3 (ipykernel)",
   "language": "python",
   "name": "python3"
  },
  "language_info": {
   "codemirror_mode": {
    "name": "ipython",
    "version": 3
   },
   "file_extension": ".py",
   "mimetype": "text/x-python",
   "name": "python",
   "nbconvert_exporter": "python",
   "pygments_lexer": "ipython3",
   "version": "3.9.13"
  }
 },
 "nbformat": 4,
 "nbformat_minor": 5
}
